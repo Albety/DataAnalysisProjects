{
 "cells": [
  {
   "cell_type": "code",
   "execution_count": null,
   "id": "b2aeee81-d03d-40fe-9ca5-131aa73ad6a2",
   "metadata": {},
   "outputs": [],
   "source": [
    "# Stacks \n",
    "\n",
    "class Node:\n",
    "    def __init__(self, value):\n",
    "        self.value = value\n",
    "        self.next = None\n",
    "\n",
    "class Stack:\n",
    "    def __init__(self, value):\n",
    "        new_node = Node(value)\n",
    "        self.top = new_node\n",
    "        self.height = 1\n",
    "\n",
    "    def print_stack(self):\n",
    "        temp = self.top\n",
    "        while temp is not None:\n",
    "            print(temp.value)\n",
    "            temp = temp.next\n",
    "            \n",
    "    def push(self, value):\n",
    "        new_node = Node(value)\n",
    "        if self.height == 0:\n",
    "            self.top = new_node\n",
    "        else: \n",
    "            new_node.next = self.top\n",
    "            self.top = new_node\n",
    "        self.height += 1\n",
    "        \n",
    "    def pop(self):\n",
    "        if self.height == 0:\n",
    "            return None\n",
    "        else:\n",
    "            temp = self.top \n",
    "            self.top = self.top.next\n",
    "            temp.next = None\n",
    "            self.height -= 1\n"
   ]
  },
  {
   "cell_type": "code",
   "execution_count": null,
   "id": "ca8a8fd8-e06e-453b-a3d3-a33f4c85091c",
   "metadata": {},
   "outputs": [],
   "source": [
    "stack = Stack(5)\n",
    "\n",
    "stack.push(33)\n",
    "stack.push(15)\n",
    "stack.push(67)\n",
    "stack.pop()\n",
    "stack.pop()"
   ]
  },
  {
   "cell_type": "code",
   "execution_count": null,
   "id": "c9e590a2-2dc6-4f7c-94e6-c2bfea559c96",
   "metadata": {},
   "outputs": [],
   "source": [
    "stack.print_stack()\n",
    "stack.height"
   ]
  },
  {
   "cell_type": "code",
   "execution_count": null,
   "id": "cb5bdb42-916d-4565-b8da-02ae037b50da",
   "metadata": {},
   "outputs": [],
   "source": [
    "# Queues\n",
    "\n",
    "class Node:\n",
    "    def __init__(self, value):\n",
    "        self.value = value\n",
    "        self.next = None\n",
    "\n",
    "class Queue:\n",
    "    def __init__(self, value):\n",
    "        new_node = Node(value)\n",
    "        self.first = new_node\n",
    "        self.last = new_node\n",
    "        self.height = 1\n",
    "\n",
    "    def print_queue(self):\n",
    "        temp = self.first\n",
    "        while temp is not None:\n",
    "            print(temp.value)\n",
    "            temp = temp.next\n",
    "        \n",
    "    def enqueue(self, value):\n",
    "        new_node = Node(value)\n",
    "        if self.first is None:\n",
    "            self.first = new_node\n",
    "            self.last = new_node\n",
    "        else: \n",
    "            self.last.next = new_node\n",
    "            self.last = new_node\n",
    "        self.height += 1\n",
    "    \n",
    "    def dequeue(self):\n",
    "        if self.height == 0:\n",
    "            return None\n",
    "        elif self.height == 1:\n",
    "            self.first = None\n",
    "            self.last = None\n",
    "        else:\n",
    "            temp = self.first\n",
    "            self.first = self.first.next\n",
    "            temp.next = None\n",
    "            self.height -= 1\n",
    "\n",
    "\n"
   ]
  },
  {
   "cell_type": "code",
   "execution_count": null,
   "id": "7223a8ba-db97-42c9-a62e-59d2efa9dd07",
   "metadata": {},
   "outputs": [],
   "source": [
    "queue = Queue(5)\n",
    "queue.enqueue(23)\n",
    "queue.enqueue(35)\n",
    "queue.enqueue(96)\n",
    "\n",
    "queue.dequeue()"
   ]
  },
  {
   "cell_type": "code",
   "execution_count": null,
   "id": "44a072da-0f8b-40f2-b63d-f33ff0ebb9e4",
   "metadata": {},
   "outputs": [],
   "source": [
    "queue.print_queue()\n",
    "print(f\"height:  {queue.height}\")"
   ]
  },
  {
   "cell_type": "code",
   "execution_count": 25,
   "id": "911a48bc-608e-4357-a2b2-80b5ac4c6d44",
   "metadata": {},
   "outputs": [],
   "source": [
    "# Trees\n",
    "class Node:\n",
    "    def __init__(self, value):\n",
    "        self.value = value\n",
    "        self.left = None\n",
    "        self.right = None\n",
    "\n",
    "class BinarySearchTree:\n",
    "    def __init__(self):\n",
    "        self.root = None\n",
    "\n",
    "    def insert(self, value):\n",
    "        new_node = Node(value)\n",
    "        if self.root is None:\n",
    "            self.root = new_node\n",
    "            return True\n",
    "\n",
    "        temp = self.root\n",
    "        while True:  \n",
    "            if  new_node.value == temp.value :\n",
    "                return False\n",
    "            if new_node.value < temp.value:\n",
    "                if temp.left is None:\n",
    "                    temp.left = new_node\n",
    "                    return True\n",
    "                temp = temp.left\n",
    "            else:\n",
    "                if temp.right is None:\n",
    "                    temp.right = new_node\n",
    "                    return True\n",
    "                temp = temp.right\n",
    "\n",
    "    def contains(self,value):\n",
    "        temp = self.root\n",
    "        while temp is not None:\n",
    "            if value < temp.value:\n",
    "                temp = temp.left\n",
    "            elif value > temp.value:\n",
    "                temp = temp.right\n",
    "            else:\n",
    "                return True   \n",
    "        return False\n",
    "                       "
   ]
  },
  {
   "cell_type": "code",
   "execution_count": 37,
   "id": "ea70d4ae-485c-434c-bae8-838877cf0626",
   "metadata": {},
   "outputs": [
    {
     "data": {
      "text/plain": [
       "True"
      ]
     },
     "execution_count": 37,
     "metadata": {},
     "output_type": "execute_result"
    }
   ],
   "source": [
    "tree = BinarySearchTree()\n",
    "tree.insert(100)\n",
    "tree.insert(70)\n",
    "tree.insert(80)\n",
    "\n",
    "tree.insert(120)\n",
    "tree.insert(150)\n",
    "\n"
   ]
  },
  {
   "cell_type": "code",
   "execution_count": 39,
   "id": "7735c42c-d6a4-4c85-9104-d281de95721d",
   "metadata": {},
   "outputs": [
    {
     "name": "stdout",
     "output_type": "stream",
     "text": [
      "100\n"
     ]
    }
   ],
   "source": [
    "print(tree.root.value)"
   ]
  },
  {
   "cell_type": "code",
   "execution_count": 47,
   "id": "b6f4f253-aa35-4ce3-a48e-1d281f902509",
   "metadata": {},
   "outputs": [
    {
     "name": "stdout",
     "output_type": "stream",
     "text": [
      "False\n"
     ]
    }
   ],
   "source": [
    "print(tree.contains(802))"
   ]
  },
  {
   "cell_type": "code",
   "execution_count": null,
   "id": "3c7c095a-74a2-43e9-9507-62feadd5c276",
   "metadata": {},
   "outputs": [],
   "source": [
    "# Hash Tables\n",
    "\n"
   ]
  },
  {
   "cell_type": "code",
   "execution_count": null,
   "id": "25b7987d-d975-4e14-a571-ad404b5d4e12",
   "metadata": {},
   "outputs": [],
   "source": []
  },
  {
   "cell_type": "code",
   "execution_count": null,
   "id": "a28db382-24fa-4be4-8b6c-1940627fe19e",
   "metadata": {},
   "outputs": [],
   "source": []
  },
  {
   "cell_type": "code",
   "execution_count": null,
   "id": "2f3ce492-483a-43d6-843d-6dac25a43595",
   "metadata": {},
   "outputs": [],
   "source": []
  },
  {
   "cell_type": "code",
   "execution_count": null,
   "id": "80e2e228-3be5-4c77-b2ab-6c5ad73137c1",
   "metadata": {},
   "outputs": [],
   "source": []
  },
  {
   "cell_type": "code",
   "execution_count": null,
   "id": "a30c48b1-0ea2-4fd1-bb38-a9814c8eade9",
   "metadata": {},
   "outputs": [],
   "source": []
  },
  {
   "cell_type": "code",
   "execution_count": null,
   "id": "c2c0e7a0-4823-497f-937f-a19ba0f41789",
   "metadata": {},
   "outputs": [],
   "source": []
  },
  {
   "cell_type": "code",
   "execution_count": null,
   "id": "4c1b8df5-6108-4c52-8d6e-3d5f5994a7df",
   "metadata": {},
   "outputs": [],
   "source": []
  },
  {
   "cell_type": "code",
   "execution_count": 93,
   "id": "92f8aedb-7b95-4417-8327-edc52344dc41",
   "metadata": {},
   "outputs": [],
   "source": [
    "# Bubble sort\n",
    "def bubble_sort(my_list):\n",
    "    for i in range(len(my_list)-1, 0, -1):\n",
    "        for j in range(i):\n",
    "            if my_list[j] > my_list[j+1]:\n",
    "                temp = my_list[j]\n",
    "                my_list[j] = my_list[j+1]\n",
    "                my_list[j+1] = temp\n",
    "\n",
    "    return my_list\n",
    "\n",
    "\n",
    "\n",
    "\n",
    "\n",
    "    "
   ]
  },
  {
   "cell_type": "code",
   "execution_count": 97,
   "id": "df529ce4-6f8a-4155-ac4c-cbc12da71887",
   "metadata": {},
   "outputs": [
    {
     "name": "stdout",
     "output_type": "stream",
     "text": [
      "[1, 2, 3, 4, 5, 6]\n"
     ]
    }
   ],
   "source": [
    "print(bubble_sort([4,2,6,5,1,3]))"
   ]
  },
  {
   "cell_type": "code",
   "execution_count": 101,
   "id": "661e1bd7-d63a-4f04-9ce9-5e144235d904",
   "metadata": {},
   "outputs": [
    {
     "name": "stdout",
     "output_type": "stream",
     "text": [
      "[0, 1, 2, 3, 4, 5, 6, 16, 36, 98]\n"
     ]
    }
   ],
   "source": [
    "print(bubble_sort([4,2,6,5,1,3, 16,98, 36, 0]))"
   ]
  },
  {
   "cell_type": "code",
   "execution_count": 134,
   "id": "1d7e63a0-8861-4d97-b6b3-e2f44ac2cc59",
   "metadata": {},
   "outputs": [],
   "source": [
    "# Selection sort\n",
    "def selection_sort(my_list):\n",
    "    for i in range(len(my_list)-1):\n",
    "        min_index = i\n",
    "        for j in range(i+1, len(my_list)):\n",
    "            if my_list[j] < my_list[min_index]: \n",
    "                min_index = j\n",
    "        if i != min_index:\n",
    "            temp = my_list[i]\n",
    "            my_list[i] = my_list[min_index]\n",
    "            my_list[min_index] = temp\n",
    "    return my_list\n",
    "\n"
   ]
  },
  {
   "cell_type": "code",
   "execution_count": 136,
   "id": "886b8cd6-829c-41c6-ad9f-b3846b95b1ae",
   "metadata": {},
   "outputs": [
    {
     "name": "stdout",
     "output_type": "stream",
     "text": [
      "[0, 1, 2, 3, 4, 5, 6, 16, 36, 98]\n"
     ]
    }
   ],
   "source": [
    "print(selection_sort([4,2,6,5,1,3, 16,98, 36, 0]))"
   ]
  },
  {
   "cell_type": "code",
   "execution_count": null,
   "id": "47779f6d-e179-4b19-afb7-f214cdc09fdb",
   "metadata": {},
   "outputs": [],
   "source": []
  },
  {
   "cell_type": "code",
   "execution_count": 139,
   "id": "fb33d019-b3e8-46e6-8a79-c1e00d1f8069",
   "metadata": {},
   "outputs": [],
   "source": [
    "# Insertion sort\n",
    "def insertion_sort(my_list):\n",
    "\n",
    "    return my_list"
   ]
  },
  {
   "cell_type": "code",
   "execution_count": 141,
   "id": "b8648b3d-3369-4cc7-b21d-04d421557f25",
   "metadata": {},
   "outputs": [
    {
     "name": "stdout",
     "output_type": "stream",
     "text": [
      "[4, 2, 6, 5, 1, 3, 16, 98, 36, 0]\n"
     ]
    }
   ],
   "source": [
    "print(insertion_sort([4,2,6,5,1,3, 16,98, 36, 0]))"
   ]
  },
  {
   "cell_type": "code",
   "execution_count": null,
   "id": "48551978-0d63-4ae7-8d1e-3e87ff5ca108",
   "metadata": {},
   "outputs": [],
   "source": []
  },
  {
   "cell_type": "code",
   "execution_count": null,
   "id": "2b3cd1e6-ee2c-49bb-879e-c38bd8bcaebe",
   "metadata": {},
   "outputs": [],
   "source": []
  },
  {
   "cell_type": "code",
   "execution_count": null,
   "id": "41d842a1-9236-4d58-8e38-26a8a2431363",
   "metadata": {},
   "outputs": [],
   "source": []
  },
  {
   "cell_type": "code",
   "execution_count": null,
   "id": "66f145cf-0122-43ad-b2ed-d5af95a9e451",
   "metadata": {},
   "outputs": [],
   "source": []
  },
  {
   "cell_type": "code",
   "execution_count": null,
   "id": "11604b3b-a6f0-46ad-a895-8c4153a90f40",
   "metadata": {},
   "outputs": [],
   "source": []
  }
 ],
 "metadata": {
  "kernelspec": {
   "display_name": "Python 3 (ipykernel)",
   "language": "python",
   "name": "python3"
  },
  "language_info": {
   "codemirror_mode": {
    "name": "ipython",
    "version": 3
   },
   "file_extension": ".py",
   "mimetype": "text/x-python",
   "name": "python",
   "nbconvert_exporter": "python",
   "pygments_lexer": "ipython3",
   "version": "3.12.4"
  }
 },
 "nbformat": 4,
 "nbformat_minor": 5
}
