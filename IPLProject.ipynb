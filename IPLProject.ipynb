{
 "cells": [
  {
   "cell_type": "code",
   "execution_count": null,
   "id": "0abb0e49-f08f-45f3-9505-a59fde872c2e",
   "metadata": {},
   "outputs": [],
   "source": [
    "import pandas as pd\n",
    "import numpy as np\n",
    "import matplotlib.pyplot as plt"
   ]
  },
  {
   "cell_type": "code",
   "execution_count": 1,
   "id": "a58e26c6-5bd8-4024-b9cc-a795eb4c2fdc",
   "metadata": {},
   "outputs": [],
   "source": [
    "x = 5\n",
    "y = 223\n",
    "c = 93\n",
    "d = 133\n",
    "e = 19\n",
    "f = 203"
   ]
  },
  {
   "cell_type": "code",
   "execution_count": null,
   "id": "f65e9813-58fd-4746-b4c2-d4968f8d997c",
   "metadata": {},
   "outputs": [],
   "source": [
    "x + y + d"
   ]
  },
  {
   "cell_type": "code",
   "execution_count": null,
   "id": "40428b28-6ad3-4dd5-a317-7a1b4536b890",
   "metadata": {},
   "outputs": [],
   "source": [
    "float(x * y - c)"
   ]
  },
  {
   "cell_type": "code",
   "execution_count": null,
   "id": "835dcff6-c1a4-4bb4-bd94-b2904f0a0959",
   "metadata": {},
   "outputs": [],
   "source": [
    "d / e * x"
   ]
  },
  {
   "cell_type": "code",
   "execution_count": null,
   "id": "49d2f70d-c531-4580-ac13-ad498e3e864a",
   "metadata": {},
   "outputs": [],
   "source": [
    "e // x"
   ]
  },
  {
   "cell_type": "code",
   "execution_count": null,
   "id": "7d7ab26a-0d71-4876-a6dd-1c22670e7512",
   "metadata": {},
   "outputs": [],
   "source": [
    "def oddNumber(num):\n",
    "    return num%2 != 0"
   ]
  },
  {
   "cell_type": "code",
   "execution_count": null,
   "id": "eb2bb5c5-d38c-43fc-8386-af022f3be737",
   "metadata": {},
   "outputs": [],
   "source": [
    "oddNumber(c)"
   ]
  },
  {
   "cell_type": "code",
   "execution_count": null,
   "id": "c3675285-e08a-44fb-bbd6-9ce5407f7f70",
   "metadata": {},
   "outputs": [],
   "source": [
    "def equalNum(num1, num2):\n",
    "    return num1 == num2"
   ]
  },
  {
   "cell_type": "code",
   "execution_count": null,
   "id": "e3a6b2cc-34a2-4cf2-a497-3ff7f244f22d",
   "metadata": {},
   "outputs": [],
   "source": [
    "elem_lst = [x, y, 63, c, d, 404, 99, 11]\n",
    "elem_lst"
   ]
  },
  {
   "cell_type": "code",
   "execution_count": null,
   "id": "552deb7a-f5dd-4497-bd44-fe3f21a26021",
   "metadata": {},
   "outputs": [],
   "source": [
    "new_lst = elem_lst + [1, 2, 3, 3, 5, 11, 85, 33] \n",
    "new_lst"
   ]
  },
  {
   "cell_type": "code",
   "execution_count": null,
   "id": "9c52d408-2d7c-42bf-a552-bff735682083",
   "metadata": {},
   "outputs": [],
   "source": [
    "new_set = set(new_lst)\n",
    "new_set"
   ]
  },
  {
   "cell_type": "code",
   "execution_count": null,
   "id": "499b2ebc-f0fa-46dd-9ff5-f4076b7a2615",
   "metadata": {},
   "outputs": [],
   "source": [
    "new_lst.sort()\n",
    "new_lst"
   ]
  },
  {
   "cell_type": "code",
   "execution_count": null,
   "id": "f6cb806a-6e65-4e50-b1a6-5666c47d81e6",
   "metadata": {},
   "outputs": [],
   "source": [
    "for i in new_lst:\n",
    "    print(f\"{i} is a really great number!\")"
   ]
  },
  {
   "cell_type": "code",
   "execution_count": null,
   "id": "063d5a44-03e5-441e-b1de-f2be8bc7dac4",
   "metadata": {},
   "outputs": [],
   "source": [
    "newDict = {'Hello':57, 10: True, \"newList\": [1,2,5,10,8]}\n",
    "newDict.get('newList', 0)"
   ]
  },
  {
   "cell_type": "code",
   "execution_count": null,
   "id": "611c2a0b-fb96-4a00-92e1-cdff24431416",
   "metadata": {},
   "outputs": [],
   "source": [
    "for key, value in newDict.items():\n",
    "    print(f\"{key} ------- {value}\")"
   ]
  },
  {
   "cell_type": "code",
   "execution_count": null,
   "id": "67d96d32-e33f-4ef3-8e3f-49d39deae3eb",
   "metadata": {},
   "outputs": [],
   "source": []
  },
  {
   "cell_type": "code",
   "execution_count": null,
   "id": "c774acc9-bde5-4501-9c20-6d349911ddca",
   "metadata": {},
   "outputs": [],
   "source": [
    "def print_num(num):\n",
    "    \"\"\"This function prints range of numbers\"\"\"\n",
    "    for i in range(num):\n",
    "        print(i)\n",
    "print_num(7)"
   ]
  },
  {
   "cell_type": "code",
   "execution_count": null,
   "id": "2b101a1b-094b-47f4-808c-7e35c0d9c88d",
   "metadata": {},
   "outputs": [],
   "source": [
    "print_num.__doc__"
   ]
  },
  {
   "cell_type": "code",
   "execution_count": null,
   "id": "64c4d052-005c-4fb5-8e20-10106c603fe5",
   "metadata": {},
   "outputs": [],
   "source": [
    "class Student:\n",
    "    def __init__(self, grade, teacher):\n",
    "        self.grade = grade\n",
    "        self.teacher = teacher\n",
    "    def showTeacher(self):\n",
    "        return self.teacher.upper()"
   ]
  },
  {
   "cell_type": "code",
   "execution_count": null,
   "id": "16aeef7c-c963-4522-b3b9-d30ed90a8cce",
   "metadata": {},
   "outputs": [],
   "source": [
    "stud = Student(5, \"Mrs. Smith\")\n",
    "stud"
   ]
  },
  {
   "cell_type": "code",
   "execution_count": null,
   "id": "caf90764-a853-4b0e-afae-2703b6d543dd",
   "metadata": {},
   "outputs": [],
   "source": [
    "stud.showTeacher()"
   ]
  },
  {
   "cell_type": "code",
   "execution_count": null,
   "id": "1bd1a07d-3740-47d5-8fe0-e00c7566c1ff",
   "metadata": {},
   "outputs": [],
   "source": [
    "isinstance(stud, Student)"
   ]
  },
  {
   "cell_type": "code",
   "execution_count": null,
   "id": "72cc4e93-d858-46a1-9484-44d25c585369",
   "metadata": {},
   "outputs": [],
   "source": [
    "class John(Student):\n",
    "    def __init__(self, grade, teacher):\n",
    "        super().__init__(grade, teacher)"
   ]
  },
  {
   "cell_type": "code",
   "execution_count": null,
   "id": "d0984372-026f-4c71-97ea-5521dc2d3d36",
   "metadata": {},
   "outputs": [],
   "source": [
    "john = John(1, \"Doe\")\n",
    "john.showTeacher()"
   ]
  },
  {
   "cell_type": "code",
   "execution_count": null,
   "id": "66099e9a-e57f-448a-9488-d5cec961f4be",
   "metadata": {},
   "outputs": [],
   "source": [
    "newTuple = (1, 45, 55, 8)\n",
    "type(newTuple)"
   ]
  },
  {
   "cell_type": "code",
   "execution_count": null,
   "id": "b1f97886-4f9f-4edc-8c7d-f25ce92fd567",
   "metadata": {},
   "outputs": [],
   "source": [
    "def num_sum(*arg):\n",
    "    sum = 0\n",
    "    for i in arg:\n",
    "        sum += int(i)\n",
    "    print(f\"the sum is {sum}\")\n",
    "num_sum(4, 12, 8552, 33, 55)"
   ]
  },
  {
   "cell_type": "code",
   "execution_count": null,
   "id": "c77d2020-6d49-43a3-b6da-f5c2580b6b20",
   "metadata": {},
   "outputs": [],
   "source": [
    "def search_dict(**kwargs):\n",
    "    for key, value in kwargs.items():\n",
    "        print(f\"Key is {key}, value is {value}\")\n",
    "\n",
    "new_search = search_dict(name=\"John\", surname=\"Smith\", age=23)\n",
    "new_search"
   ]
  },
  {
   "cell_type": "code",
   "execution_count": null,
   "id": "65d84446-cc2c-4761-a86a-bc4d8d1de8aa",
   "metadata": {},
   "outputs": [],
   "source": [
    "even_nums = [i for i in range(23) if i%2 == 0]\n",
    "even_nums"
   ]
  },
  {
   "cell_type": "code",
   "execution_count": null,
   "id": "ee695911-6aa2-4103-b9c6-e3b4d880b831",
   "metadata": {},
   "outputs": [],
   "source": [
    "numbers = [1, 2, 3, 4, 5]\n",
    "squared = list(map(lambda x: x**2, numbers))\n",
    "squared"
   ]
  },
  {
   "cell_type": "code",
   "execution_count": null,
   "id": "0c7c62d0-4d57-441a-8f70-ae9268c0260c",
   "metadata": {},
   "outputs": [],
   "source": [
    "with open('example.txt', 'r') as file:\n",
    "    file.read('Hello, world!')"
   ]
  },
  {
   "cell_type": "code",
   "execution_count": null,
   "id": "0cb67990-e11b-4d44-8a73-9a6edd2c65ff",
   "metadata": {},
   "outputs": [],
   "source": [
    "numbers = [0, 1, 2, 3, 4, 5]\n",
    "word = \"Python\"\n",
    "\n",
    "print(numbers[1:4]) \n",
    "print(numbers[::2])  \n",
    "print(numbers[::-1])  \n",
    "print(word[1:4])"
   ]
  },
  {
   "cell_type": "code",
   "execution_count": null,
   "id": "1d8bc4c8-1dfd-4ab4-9132-07767ef4be93",
   "metadata": {},
   "outputs": [],
   "source": [
    "a, b, c = [1, 2, 3]\n",
    "print(a, b, c)  \n",
    "\n",
    "first, *rest = [1, 2, 3, 4, 5]\n",
    "print(first)  \n",
    "print(rest)  \n",
    "\n",
    "x, y = 5, 10\n",
    "x, y = y, x\n",
    "print(x, y)"
   ]
  },
  {
   "cell_type": "code",
   "execution_count": null,
   "id": "2cfbf36b-a7de-4c35-93e0-40ee485ba734",
   "metadata": {},
   "outputs": [],
   "source": [
    "fruits = ['apple', 'banana', 'cherry']\n",
    "print('banana' in fruits)  \n",
    "\n",
    "message = \"Hello, World!\"\n",
    "print('z' in message)     \n",
    "\n",
    "person = {'name': 'Alice', 'age': 30}\n",
    "print('name' in person)   \n",
    "\n",
    "colors = {'red', 'green', 'blue'}\n",
    "print('green' in colors)   "
   ]
  },
  {
   "cell_type": "code",
   "execution_count": null,
   "id": "6ea2b4ac-f41b-40fa-90f4-c586eaec8661",
   "metadata": {},
   "outputs": [],
   "source": [
    "print(bool(0))          \n",
    "print(bool(\"\"))         \n",
    "print(bool([]))         \n",
    "print(bool(()))        \n",
    "print(bool({}))       \n",
    "print(bool(None))       "
   ]
  },
  {
   "cell_type": "code",
   "execution_count": null,
   "id": "04c9a5f2-424e-40cd-9379-48bc58b08c5d",
   "metadata": {},
   "outputs": [],
   "source": [
    "squares = {x: x**2 for x in range(10)}\n",
    "print(squares)  \n",
    "\n",
    "even_squares = {x: x**2 for x in range(10) if x % 2 == 0}\n",
    "print(even_squares)"
   ]
  },
  {
   "cell_type": "code",
   "execution_count": null,
   "id": "fb1619d9-d3fb-42f6-a3ac-ab9d889f12f6",
   "metadata": {},
   "outputs": [],
   "source": [
    "print(len(\"Python\"))  \n",
    "\n",
    "print(len([1, 3, 4, 5])) \n",
    "\n",
    "print(len((1, 2, 3)))  \n",
    "\n",
    "print(len({'a': 1, 'b': 2, 'c': 3})) \n",
    "\n",
    "print(len({1, 2, 3}))  "
   ]
  },
  {
   "cell_type": "code",
   "execution_count": null,
   "id": "b01128d1-dc74-4042-a528-2957b32b3661",
   "metadata": {},
   "outputs": [],
   "source": [
    "text = \"   Hello, World   \"\n",
    "print(text.strip())  \n",
    "\n",
    "greeting = \"Hello, WORLD!\"\n",
    "print(greeting.lower())  \n",
    "\n",
    "message = \"hello, world!\"\n",
    "print(message.upper())"
   ]
  },
  {
   "cell_type": "code",
   "execution_count": 1,
   "id": "c57094ee-cd7a-4e8f-a813-0685a8654401",
   "metadata": {},
   "outputs": [
    {
     "name": "stdout",
     "output_type": "stream",
     "text": [
      "apple, banana, cherry\n",
      "Python is awesome\n",
      "Hello!\n"
     ]
    }
   ],
   "source": [
    "fruits = ['apple', 'banana', 'cherry']\n",
    "print(', '.join(fruits))  \n",
    "\n",
    "words = [\"Python\", \"is\", \"awesome\"]\n",
    "print(' '.join(words))    \n",
    "\n",
    "chars = ['H', 'e', 'l', 'l', 'o', '!']\n",
    "print(''.join(chars))     "
   ]
  },
  {
   "cell_type": "code",
   "execution_count": null,
   "id": "1dd727f7-fd11-4d23-b505-81781b057116",
   "metadata": {},
   "outputs": [],
   "source": [
    "for i in range(0, 9, 2):\n",
    "    print(i)  \n",
    "    \n",
    "print(list(range(4)))  \n",
    "\n",
    "for i in range(5, 0, -1):\n",
    "    print(i) "
   ]
  },
  {
   "cell_type": "code",
   "execution_count": null,
   "id": "5ae9390b-f13b-4335-891a-6afa89bdab4d",
   "metadata": {},
   "outputs": [],
   "source": [
    "names = ['Alice', 'Bob', 'Charlie']\n",
    "ages = [25, 33, 35]\n",
    "\n",
    "for name, age in zip(names, ages):\n",
    "    print(f\"{name} is {age} years old!\")\n",
    "    \n",
    "name_age_dict = dict(zip(names, ages))\n",
    "print(name_age_dict)"
   ]
  },
  {
   "cell_type": "code",
   "execution_count": null,
   "id": "c661b13a-c0d3-482d-9a16-1db2c41d5f3a",
   "metadata": {},
   "outputs": [],
   "source": [
    "numbers = [1, 0, 2, 0, 3]\n",
    "print(any(numbers))  \n",
    "print(any([0, 0, 0]))  \n",
    "\n",
    "print(all(numbers))  \n",
    "print(all([1, 2, 3]))  \n",
    "\n",
    "bools = [True, True, False]\n",
    "print(any(bools))   \n",
    "print(all(bools))"
   ]
  },
  {
   "cell_type": "code",
   "execution_count": null,
   "id": "3b317662-b3fb-4a3f-b44e-c2678afd694f",
   "metadata": {},
   "outputs": [],
   "source": [
    "fruits = ['apple', 'banana', 'cherry']\n",
    "for count, fruit in enumerate(fruits, start=1):\n",
    "    print(f\"Fruit #{count}: {fruit}\")"
   ]
  },
  {
   "cell_type": "code",
   "execution_count": null,
   "id": "a8b66ddb-24b3-49d1-87de-f28e795a1650",
   "metadata": {},
   "outputs": [],
   "source": [
    "class Person:\n",
    "    def __init__(self, name, age):\n",
    "        self.name = name\n",
    "        self.age = age\n",
    "\n",
    "person = Person(\"Alice\", 25)\n",
    "print(getattr(person, 'name')) \n",
    "print(getattr(person, 'age'))   \n",
    "print(getattr(person, 'height', 'Not specified'))"
   ]
  },
  {
   "cell_type": "code",
   "execution_count": null,
   "id": "5e1cc6e6-6bab-47bf-8676-d140eeb339b4",
   "metadata": {},
   "outputs": [],
   "source": [
    "pi = 3.14159\n",
    "print(f\"Pi rounded to two decimal places: {pi:.2f}\")"
   ]
  },
  {
   "cell_type": "code",
   "execution_count": null,
   "id": "4df7d6a2-a90c-46ed-861c-9b61d2d49922",
   "metadata": {},
   "outputs": [],
   "source": [
    "my_list = [1, 2, 3, 4]\n",
    "\n",
    "del my_list[1:3]  \n",
    "print(my_list) \n",
    "\n",
    "my_dict = {'a': 1, 'b': 2, 'c': 4}\n",
    "del my_dict['b']\n",
    "print(my_dict)  \n",
    "\n",
    "x = 10\n",
    "del x\n",
    "\n",
    "class Example:\n",
    "    def __init__(self):\n",
    "        self.value = 105\n",
    "\n",
    "obj = Example()\n",
    "del obj.value"
   ]
  },
  {
   "cell_type": "code",
   "execution_count": null,
   "id": "9fcd25d0-1a73-42c2-bb0f-ea033c63b08d",
   "metadata": {},
   "outputs": [],
   "source": [
    "x = 5\n",
    "y = \"Hello!\"\n",
    "z = [1, 2, 3]\n",
    "\n",
    "print(isinstance(x, str))    \n",
    "print(isinstance(z, list)) \n",
    "\n",
    "print(isinstance(x, (float, int)))  \n",
    "print(isinstance(y, (str, list)))   "
   ]
  },
  {
   "cell_type": "code",
   "execution_count": null,
   "id": "8dad3746-db88-4254-88f8-b46d503d5d8d",
   "metadata": {},
   "outputs": [],
   "source": [
    "def empty_function():\n",
    "    pass  \n",
    "\n",
    "class EmptyClass:\n",
    "    pass\n",
    "\n",
    "if some_condition:\n",
    "    pass  \n",
    "else:\n",
    "    print(\"Condition not met!\")"
   ]
  },
  {
   "cell_type": "code",
   "execution_count": null,
   "id": "62fe086e-c563-4956-a4ba-caeb6d3edb1a",
   "metadata": {},
   "outputs": [],
   "source": [
    "linked_list = {\"value\": 23, \n",
    "               \"next\": {\n",
    "                   \"value\": 12,\n",
    "                   \"next\": {\n",
    "                       \"value\": 66,\n",
    "                       \"next\": None\n",
    "                   }\n",
    "                }\n",
    "              }\n"
   ]
  },
  {
   "cell_type": "code",
   "execution_count": 14,
   "id": "2aa5566b-ff9d-46de-9c1d-00a1303795f7",
   "metadata": {},
   "outputs": [],
   "source": [
    "# Data Structure Linked List implementation\n",
    "class Node:\n",
    "    def __init__(self, value):\n",
    "        self.value = value\n",
    "        self.next = None\n"
   ]
  },
  {
   "cell_type": "code",
   "execution_count": 562,
   "id": "d9fb2848-6a3e-4908-8eb4-3cf0806d584c",
   "metadata": {},
   "outputs": [],
   "source": [
    "class LinkedList:\n",
    "    def __init__(self, value):\n",
    "        new_node = Node(value)\n",
    "        self.head = new_node\n",
    "        self.tail = new_node\n",
    "        self.length = 1\n",
    "\n",
    "    def print_list(self):\n",
    "        values = []\n",
    "        temp = self.head\n",
    "        while temp is not None:\n",
    "            values.append(str(temp.value))\n",
    "            temp = temp.next\n",
    "        values.append(\"None\")\n",
    "        print(\" -> \".join(values))\n",
    "        print(f\"Length of the linked list is {self.length}\")\n",
    "\n",
    "    def append(self, value):\n",
    "        new_node = Node(value)\n",
    "        if self.length == 0:\n",
    "            self.head = new_node\n",
    "            self.tail = new_node\n",
    "        else: \n",
    "            self.tail.next = new_node\n",
    "            self.tali = new_node\n",
    "        self.length += 1\n",
    "        return True\n",
    "\n",
    "    def pop(self):\n",
    "\n",
    "        if self.length == 0:\n",
    "            print(\"There is no element for popping!\")\n",
    "            return None\n",
    "            \n",
    "        elif self.length == 1:\n",
    "            self.head = None\n",
    "            self.tail = None\n",
    "            self.length = 0\n",
    "            return None\n",
    "            \n",
    "        else:\n",
    "            temp = self.head\n",
    "            pre = self.head\n",
    "            while temp.next:\n",
    "                pre = temp\n",
    "                temp = temp.next\n",
    "            self.tail = pre\n",
    "            self.tail.next = None\n",
    "            self.length -= 1\n",
    "            return True\n",
    "\n",
    "    def prepend(self, value):\n",
    "        new_node = Node(value)\n",
    "        if self.length == 0:\n",
    "            self.head = new_node\n",
    "            self.tail = new_node\n",
    "        else:\n",
    "            temp = self.head\n",
    "            self.head = new_node\n",
    "            self.head.next = temp \n",
    "        self.length += 1\n",
    "        return True\n",
    "\n",
    "    def popFirst(self):\n",
    "        temp = self.head\n",
    "        self.head = self.head.next\n",
    "        temp.next = None\n",
    "        self.length -= 1\n",
    "        return True\n",
    "\n",
    "    def get(self, index):\n",
    "\n",
    "        if index < 0 or index >= self.length:\n",
    "            return None\n",
    "\n",
    "        temp = self.head\n",
    "        for _ in range(index):\n",
    "            temp = temp.next\n",
    "            \n",
    "        return temp\n",
    "\n",
    "    def set_value(self, index, value):\n",
    "\n",
    "        if index < 0 or index >= self.length:\n",
    "            return None\n",
    "            \n",
    "        temp = self.head\n",
    "        for _ in range(index):\n",
    "            temp = temp.next\n",
    "        temp.value = value\n",
    "\n",
    "    def insert(self, index, value):\n",
    "        if index < 0 or index > self.length:\n",
    "            return False\n",
    "\n",
    "        if index == 0:\n",
    "            return self.prepend(value)\n",
    "\n",
    "        if index == self.length:\n",
    "            return self.append(value)\n",
    "\n",
    "        new_node = Node(value)\n",
    "        temp = self.get(index-1)\n",
    "        new_node.next = temp.next\n",
    "        temp.next = new_node\n",
    "        self.length += 1\n",
    "        return True\n",
    "\n",
    "    def remove(self, index):\n",
    "        if index < 0 or index > self.length:\n",
    "            return False\n",
    "\n",
    "        if index == 0:\n",
    "            return self.popFirst()\n",
    "        if index == self.length-1:\n",
    "            return self.pop()\n",
    "            \n",
    "        temp = self.get(index-1)\n",
    "        temp.next = self.get(index+1)\n",
    "        self.length -= 1\n",
    "        \n",
    "        return True\n",
    "\n",
    "    def reverse(self):\n",
    "\n",
    "        values = []\n",
    "        for i in range(self.length-1, -1, -1):\n",
    "            values.append(str(self.get(i).value))\n",
    "        values.append(\"None\")\n",
    "        print(\" -> \".join(values))\n",
    "        \n",
    "    \n",
    "        \n",
    "\n",
    "            \n",
    "            "
   ]
  },
  {
   "cell_type": "code",
   "execution_count": 564,
   "id": "27c9e342-589b-4141-bdfb-9c28c5cabd36",
   "metadata": {},
   "outputs": [
    {
     "name": "stdout",
     "output_type": "stream",
     "text": [
      "155 -> None\n",
      "Length of the linked list is 1\n"
     ]
    }
   ],
   "source": [
    "linked_list = LinkedList(155)\n",
    "linked_list.print_list()"
   ]
  },
  {
   "cell_type": "code",
   "execution_count": 566,
   "id": "6ef6ffbe-1c0c-4666-92d9-569300ea7beb",
   "metadata": {},
   "outputs": [
    {
     "name": "stdout",
     "output_type": "stream",
     "text": [
      "59 -> 81 -> 82 -> 36 -> 88 -> 12 -> 155 -> None\n",
      "Length of the linked list is 7\n"
     ]
    }
   ],
   "source": [
    "linked_list.prepend(12)\n",
    "linked_list.prepend(88)\n",
    "linked_list.prepend(36)\n",
    "linked_list.prepend(82)\n",
    "linked_list.prepend(81)\n",
    "linked_list.prepend(59)\n",
    "linked_list.print_list()"
   ]
  },
  {
   "cell_type": "code",
   "execution_count": 567,
   "id": "bf1d3835-0911-40fa-afdb-cea05a07b1cf",
   "metadata": {},
   "outputs": [
    {
     "name": "stdout",
     "output_type": "stream",
     "text": [
      "59 -> 81 -> 82 -> 36 -> 88 -> 12 -> 155 -> 95 -> None\n",
      "Length of the linked list is 8\n"
     ]
    }
   ],
   "source": [
    "linked_list.append(95)\n",
    "\n",
    "linked_list.print_list()"
   ]
  },
  {
   "cell_type": "code",
   "execution_count": 568,
   "id": "6ead8024-b796-435d-8860-bb353a90f8ff",
   "metadata": {},
   "outputs": [
    {
     "name": "stdout",
     "output_type": "stream",
     "text": [
      "81\n"
     ]
    }
   ],
   "source": [
    "print(linked_list.get(1).value)"
   ]
  },
  {
   "cell_type": "code",
   "execution_count": 569,
   "id": "e9f7b311-cf86-4693-905b-0e79746414b7",
   "metadata": {},
   "outputs": [
    {
     "name": "stdout",
     "output_type": "stream",
     "text": [
      "59 -> 81 -> 82 -> 36 -> 88 -> 12 -> 155 -> 95 -> None\n",
      "Length of the linked list is 8\n"
     ]
    }
   ],
   "source": [
    "linked_list.print_list()"
   ]
  },
  {
   "cell_type": "code",
   "execution_count": 570,
   "id": "91a6f2d9-f1ba-4bbf-a04c-719c080145a5",
   "metadata": {},
   "outputs": [
    {
     "name": "stdout",
     "output_type": "stream",
     "text": [
      "59 -> 81 -> 6 -> 36 -> 88 -> 12 -> 155 -> 95 -> None\n",
      "Length of the linked list is 8\n"
     ]
    }
   ],
   "source": [
    "linked_list.set_value(2, 6)\n",
    "linked_list.print_list()"
   ]
  },
  {
   "cell_type": "code",
   "execution_count": null,
   "id": "58312ce2-cc02-48b2-8aac-695fcf2619f6",
   "metadata": {},
   "outputs": [],
   "source": []
  },
  {
   "cell_type": "code",
   "execution_count": 572,
   "id": "94163997-3be0-49bd-8a6b-ca7adebb0193",
   "metadata": {},
   "outputs": [
    {
     "data": {
      "text/plain": [
       "True"
      ]
     },
     "execution_count": 572,
     "metadata": {},
     "output_type": "execute_result"
    }
   ],
   "source": [
    "linked_list.insert(2, 52)"
   ]
  },
  {
   "cell_type": "code",
   "execution_count": null,
   "id": "3c8dd32d-c25e-474c-906d-9195c5f93f17",
   "metadata": {},
   "outputs": [],
   "source": []
  },
  {
   "cell_type": "code",
   "execution_count": 576,
   "id": "52b9f79e-8727-4cbd-9aaf-ae4bcf435e5d",
   "metadata": {},
   "outputs": [
    {
     "name": "stdout",
     "output_type": "stream",
     "text": [
      "59 -> 81 -> 52 -> 6 -> 36 -> 88 -> 12 -> 155 -> 95 -> None\n",
      "Length of the linked list is 9\n"
     ]
    }
   ],
   "source": [
    "linked_list.print_list()"
   ]
  },
  {
   "cell_type": "code",
   "execution_count": null,
   "id": "06149023-57d0-49fa-aee2-da142aaf2290",
   "metadata": {},
   "outputs": [],
   "source": []
  },
  {
   "cell_type": "code",
   "execution_count": 579,
   "id": "eccd4176-0bb6-4b2d-97e8-4aca13ff1f7a",
   "metadata": {},
   "outputs": [],
   "source": [
    "#linked_list.remove(2)"
   ]
  },
  {
   "cell_type": "code",
   "execution_count": 580,
   "id": "1dde8279-4eaf-4cd7-bb6f-bf28fde15dd6",
   "metadata": {},
   "outputs": [
    {
     "name": "stdout",
     "output_type": "stream",
     "text": [
      "95 -> 155 -> 12 -> 88 -> 36 -> 6 -> 52 -> 81 -> 59 -> None\n"
     ]
    }
   ],
   "source": [
    "linked_list.reverse()"
   ]
  },
  {
   "cell_type": "code",
   "execution_count": 582,
   "id": "8c807726-9492-418d-86b6-e3986c1e83d8",
   "metadata": {},
   "outputs": [
    {
     "name": "stdout",
     "output_type": "stream",
     "text": [
      "59 -> 81 -> 52 -> 6 -> 36 -> 88 -> 12 -> 155 -> 95 -> None\n",
      "Length of the linked list is 9\n"
     ]
    }
   ],
   "source": [
    "linked_list.print_list()"
   ]
  },
  {
   "cell_type": "code",
   "execution_count": null,
   "id": "f0a0b180-61c8-42ad-ad18-6129a77bd3a4",
   "metadata": {},
   "outputs": [],
   "source": []
  },
  {
   "cell_type": "code",
   "execution_count": null,
   "id": "78d80f3f-b5f3-427f-a697-ac8871ec4ede",
   "metadata": {},
   "outputs": [],
   "source": []
  },
  {
   "cell_type": "code",
   "execution_count": null,
   "id": "26de28c9-2912-4bae-9896-0bf9f1e2dcb8",
   "metadata": {},
   "outputs": [],
   "source": []
  },
  {
   "cell_type": "code",
   "execution_count": null,
   "id": "d179c83d-d7b1-4cd4-ad53-4259a5f73bea",
   "metadata": {},
   "outputs": [],
   "source": []
  },
  {
   "cell_type": "code",
   "execution_count": null,
   "id": "b860ecda-42ae-4848-8b37-0c5bb725df3e",
   "metadata": {},
   "outputs": [],
   "source": []
  },
  {
   "cell_type": "code",
   "execution_count": null,
   "id": "5b732970-570f-455d-96a9-2526316f1ade",
   "metadata": {},
   "outputs": [],
   "source": []
  },
  {
   "cell_type": "code",
   "execution_count": null,
   "id": "0b77fed9-7287-4758-a73f-eb759d652526",
   "metadata": {},
   "outputs": [],
   "source": []
  }
 ],
 "metadata": {
  "kernelspec": {
   "display_name": "Python 3 (ipykernel)",
   "language": "python",
   "name": "python3"
  },
  "language_info": {
   "codemirror_mode": {
    "name": "ipython",
    "version": 3
   },
   "file_extension": ".py",
   "mimetype": "text/x-python",
   "name": "python",
   "nbconvert_exporter": "python",
   "pygments_lexer": "ipython3",
   "version": "3.12.4"
  }
 },
 "nbformat": 4,
 "nbformat_minor": 5
}
