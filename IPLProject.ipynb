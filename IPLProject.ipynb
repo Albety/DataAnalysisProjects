{
 "cells": [
  {
   "cell_type": "code",
   "execution_count": 1,
   "id": "0abb0e49-f08f-45f3-9505-a59fde872c2e",
   "metadata": {},
   "outputs": [],
   "source": [
    "import pandas as pd\n",
    "import numpy as np\n",
    "import matplotlib.pyplot as plt"
   ]
  },
  {
   "cell_type": "code",
   "execution_count": 2,
   "id": "a58e26c6-5bd8-4024-b9cc-a795eb4c2fdc",
   "metadata": {},
   "outputs": [],
   "source": [
    "x = 5\n",
    "y = 7\n",
    "c = 9\n",
    "d = 12\n",
    "e = 15"
   ]
  },
  {
   "cell_type": "code",
   "execution_count": 3,
   "id": "f65e9813-58fd-4746-b4c2-d4968f8d997c",
   "metadata": {},
   "outputs": [
    {
     "data": {
      "text/plain": [
       "12"
      ]
     },
     "execution_count": 3,
     "metadata": {},
     "output_type": "execute_result"
    }
   ],
   "source": [
    "x + y"
   ]
  },
  {
   "cell_type": "code",
   "execution_count": 4,
   "id": "40428b28-6ad3-4dd5-a317-7a1b4536b890",
   "metadata": {},
   "outputs": [
    {
     "data": {
      "text/plain": [
       "35"
      ]
     },
     "execution_count": 4,
     "metadata": {},
     "output_type": "execute_result"
    }
   ],
   "source": [
    "x * y "
   ]
  },
  {
   "cell_type": "code",
   "execution_count": 5,
   "id": "7d7ab26a-0d71-4876-a6dd-1c22670e7512",
   "metadata": {},
   "outputs": [],
   "source": [
    "def oddNumber(num):\n",
    "    return num%2 != 0"
   ]
  },
  {
   "cell_type": "code",
   "execution_count": 9,
   "id": "eb2bb5c5-d38c-43fc-8386-af022f3be737",
   "metadata": {},
   "outputs": [
    {
     "data": {
      "text/plain": [
       "True"
      ]
     },
     "execution_count": 9,
     "metadata": {},
     "output_type": "execute_result"
    }
   ],
   "source": [
    "oddNumber(c)"
   ]
  },
  {
   "cell_type": "code",
   "execution_count": 13,
   "id": "c3675285-e08a-44fb-bbd6-9ce5407f7f70",
   "metadata": {},
   "outputs": [],
   "source": [
    "def equalNum(num1, num2):\n",
    "    return num1 == num2"
   ]
  },
  {
   "cell_type": "code",
   "execution_count": 15,
   "id": "e3a6b2cc-34a2-4cf2-a497-3ff7f244f22d",
   "metadata": {},
   "outputs": [
    {
     "data": {
      "text/plain": [
       "[5, 7, 9, 12, 15]"
      ]
     },
     "execution_count": 15,
     "metadata": {},
     "output_type": "execute_result"
    }
   ],
   "source": [
    "elem_lst = [x, y, c, d, e]\n",
    "elem_lst"
   ]
  },
  {
   "cell_type": "code",
   "execution_count": null,
   "id": "552deb7a-f5dd-4497-bd44-fe3f21a26021",
   "metadata": {},
   "outputs": [],
   "source": []
  }
 ],
 "metadata": {
  "kernelspec": {
   "display_name": "Python 3 (ipykernel)",
   "language": "python",
   "name": "python3"
  },
  "language_info": {
   "codemirror_mode": {
    "name": "ipython",
    "version": 3
   },
   "file_extension": ".py",
   "mimetype": "text/x-python",
   "name": "python",
   "nbconvert_exporter": "python",
   "pygments_lexer": "ipython3",
   "version": "3.12.4"
  }
 },
 "nbformat": 4,
 "nbformat_minor": 5
}
