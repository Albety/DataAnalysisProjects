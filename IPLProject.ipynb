{
 "cells": [
  {
   "cell_type": "code",
   "execution_count": 4,
   "id": "0abb0e49-f08f-45f3-9505-a59fde872c2e",
   "metadata": {},
   "outputs": [],
   "source": [
    "import pandas as pd\n",
    "import numpy as np\n",
    "import matplotlib.pyplot as plt"
   ]
  },
  {
   "cell_type": "code",
   "execution_count": 5,
   "id": "a58e26c6-5bd8-4024-b9cc-a795eb4c2fdc",
   "metadata": {},
   "outputs": [],
   "source": [
    "x = 5\n",
    "y = 7\n",
    "c = 9\n",
    "d = 132\n",
    "e = 15\n",
    "f = 20"
   ]
  },
  {
   "cell_type": "code",
   "execution_count": 6,
   "id": "f65e9813-58fd-4746-b4c2-d4968f8d997c",
   "metadata": {},
   "outputs": [
    {
     "data": {
      "text/plain": [
       "12"
      ]
     },
     "execution_count": 6,
     "metadata": {},
     "output_type": "execute_result"
    }
   ],
   "source": [
    "x + y"
   ]
  },
  {
   "cell_type": "code",
   "execution_count": 7,
   "id": "40428b28-6ad3-4dd5-a317-7a1b4536b890",
   "metadata": {},
   "outputs": [
    {
     "data": {
      "text/plain": [
       "35"
      ]
     },
     "execution_count": 7,
     "metadata": {},
     "output_type": "execute_result"
    }
   ],
   "source": [
    "x * y "
   ]
  },
  {
   "cell_type": "code",
   "execution_count": 8,
   "id": "835dcff6-c1a4-4bb4-bd94-b2904f0a0959",
   "metadata": {},
   "outputs": [
    {
     "data": {
      "text/plain": [
       "8.8"
      ]
     },
     "execution_count": 8,
     "metadata": {},
     "output_type": "execute_result"
    }
   ],
   "source": [
    "d / e"
   ]
  },
  {
   "cell_type": "code",
   "execution_count": 9,
   "id": "49d2f70d-c531-4580-ac13-ad498e3e864a",
   "metadata": {},
   "outputs": [
    {
     "data": {
      "text/plain": [
       "3"
      ]
     },
     "execution_count": 9,
     "metadata": {},
     "output_type": "execute_result"
    }
   ],
   "source": [
    "e // x"
   ]
  },
  {
   "cell_type": "code",
   "execution_count": 10,
   "id": "7d7ab26a-0d71-4876-a6dd-1c22670e7512",
   "metadata": {},
   "outputs": [],
   "source": [
    "def oddNumber(num):\n",
    "    return num%2 != 0"
   ]
  },
  {
   "cell_type": "code",
   "execution_count": 11,
   "id": "eb2bb5c5-d38c-43fc-8386-af022f3be737",
   "metadata": {},
   "outputs": [
    {
     "data": {
      "text/plain": [
       "True"
      ]
     },
     "execution_count": 11,
     "metadata": {},
     "output_type": "execute_result"
    }
   ],
   "source": [
    "oddNumber(c)"
   ]
  },
  {
   "cell_type": "code",
   "execution_count": 12,
   "id": "c3675285-e08a-44fb-bbd6-9ce5407f7f70",
   "metadata": {},
   "outputs": [],
   "source": [
    "def equalNum(num1, num2):\n",
    "    return num1 == num2"
   ]
  },
  {
   "cell_type": "code",
   "execution_count": 13,
   "id": "e3a6b2cc-34a2-4cf2-a497-3ff7f244f22d",
   "metadata": {},
   "outputs": [
    {
     "data": {
      "text/plain": [
       "[5, 7, 9, 132, 15, 44]"
      ]
     },
     "execution_count": 13,
     "metadata": {},
     "output_type": "execute_result"
    }
   ],
   "source": [
    "elem_lst = [x, y, c, d, e, 44]\n",
    "elem_lst"
   ]
  },
  {
   "cell_type": "code",
   "execution_count": 14,
   "id": "552deb7a-f5dd-4497-bd44-fe3f21a26021",
   "metadata": {},
   "outputs": [
    {
     "data": {
      "text/plain": [
       "[5, 7, 9, 132, 15, 44, 1, 2, 3, 3, 5, 11, 85]"
      ]
     },
     "execution_count": 14,
     "metadata": {},
     "output_type": "execute_result"
    }
   ],
   "source": [
    "new_lst = elem_lst + [1, 2, 3, 3, 5, 11, 85] \n",
    "new_lst"
   ]
  },
  {
   "cell_type": "code",
   "execution_count": 15,
   "id": "9c52d408-2d7c-42bf-a552-bff735682083",
   "metadata": {},
   "outputs": [
    {
     "data": {
      "text/plain": [
       "{1, 2, 3, 5, 7, 9, 11, 15, 44, 85, 132}"
      ]
     },
     "execution_count": 15,
     "metadata": {},
     "output_type": "execute_result"
    }
   ],
   "source": [
    "new_set = set(new_lst)\n",
    "new_set"
   ]
  },
  {
   "cell_type": "code",
   "execution_count": 16,
   "id": "499b2ebc-f0fa-46dd-9ff5-f4076b7a2615",
   "metadata": {},
   "outputs": [
    {
     "data": {
      "text/plain": [
       "[1, 2, 3, 3, 5, 5, 7, 9, 11, 15, 44, 85, 132]"
      ]
     },
     "execution_count": 16,
     "metadata": {},
     "output_type": "execute_result"
    }
   ],
   "source": [
    "new_lst.sort()\n",
    "new_lst"
   ]
  },
  {
   "cell_type": "code",
   "execution_count": 17,
   "id": "f6cb806a-6e65-4e50-b1a6-5666c47d81e6",
   "metadata": {},
   "outputs": [
    {
     "name": "stdout",
     "output_type": "stream",
     "text": [
      "1 is a great number!\n",
      "2 is a great number!\n",
      "3 is a great number!\n",
      "3 is a great number!\n",
      "5 is a great number!\n",
      "5 is a great number!\n",
      "7 is a great number!\n",
      "9 is a great number!\n",
      "11 is a great number!\n",
      "15 is a great number!\n",
      "44 is a great number!\n",
      "85 is a great number!\n",
      "132 is a great number!\n"
     ]
    }
   ],
   "source": [
    "for i in new_lst:\n",
    "    print(f\"{i} is a great number!\")"
   ]
  },
  {
   "cell_type": "code",
   "execution_count": 18,
   "id": "063d5a44-03e5-441e-b1de-f2be8bc7dac4",
   "metadata": {},
   "outputs": [
    {
     "data": {
      "text/plain": [
       "[1, 2, 10, 8]"
      ]
     },
     "execution_count": 18,
     "metadata": {},
     "output_type": "execute_result"
    }
   ],
   "source": [
    "newDict = {'Hello':5, 10: True, \"newList\": [1,2,10,8]}\n",
    "newDict.get('newList', 0)"
   ]
  },
  {
   "cell_type": "code",
   "execution_count": 34,
   "id": "611c2a0b-fb96-4a00-92e1-cdff24431416",
   "metadata": {},
   "outputs": [
    {
     "name": "stdout",
     "output_type": "stream",
     "text": [
      "Hello ----- 5\n",
      "10 ----- True\n",
      "newList ----- [1, 2, 10, 8]\n"
     ]
    }
   ],
   "source": [
    "for key, value in newDict.items():\n",
    "    print(f\"{key} ----- {value}\")"
   ]
  },
  {
   "cell_type": "code",
   "execution_count": 1,
   "id": "c774acc9-bde5-4501-9c20-6d349911ddca",
   "metadata": {},
   "outputs": [
    {
     "name": "stdout",
     "output_type": "stream",
     "text": [
      "0\n",
      "1\n",
      "2\n",
      "3\n"
     ]
    }
   ],
   "source": [
    "def print_num(num):\n",
    "    for i in range(num):\n",
    "        print(i)\n",
    "print_num(4)"
   ]
  },
  {
   "cell_type": "code",
   "execution_count": 29,
   "id": "64c4d052-005c-4fb5-8e20-10106c603fe5",
   "metadata": {},
   "outputs": [],
   "source": [
    "class Student:\n",
    "    def __init__(self, grade, teacher):\n",
    "        self.grade = grade\n",
    "        self.teacher = teacher\n",
    "    def showTeacher(self):\n",
    "        return self.teacher.upper()"
   ]
  },
  {
   "cell_type": "code",
   "execution_count": 47,
   "id": "16aeef7c-c963-4522-b3b9-d30ed90a8cce",
   "metadata": {},
   "outputs": [
    {
     "data": {
      "text/plain": [
       "<__main__.Student at 0x17f1a916e10>"
      ]
     },
     "execution_count": 47,
     "metadata": {},
     "output_type": "execute_result"
    }
   ],
   "source": [
    "stud = Student(5, \"Smith\")\n",
    "stud"
   ]
  },
  {
   "cell_type": "code",
   "execution_count": 49,
   "id": "caf90764-a853-4b0e-afae-2703b6d543dd",
   "metadata": {},
   "outputs": [
    {
     "data": {
      "text/plain": [
       "'SMITH'"
      ]
     },
     "execution_count": 49,
     "metadata": {},
     "output_type": "execute_result"
    }
   ],
   "source": [
    "stud.showTeacher()"
   ]
  },
  {
   "cell_type": "code",
   "execution_count": 51,
   "id": "1bd1a07d-3740-47d5-8fe0-e00c7566c1ff",
   "metadata": {},
   "outputs": [
    {
     "data": {
      "text/plain": [
       "True"
      ]
     },
     "execution_count": 51,
     "metadata": {},
     "output_type": "execute_result"
    }
   ],
   "source": [
    "isinstance(stud, Student)"
   ]
  },
  {
   "cell_type": "code",
   "execution_count": 53,
   "id": "72cc4e93-d858-46a1-9484-44d25c585369",
   "metadata": {},
   "outputs": [],
   "source": [
    "class John(Student):\n",
    "    def __init__(self, grade, teacher):\n",
    "        super().__init__(grade, teacher)"
   ]
  },
  {
   "cell_type": "code",
   "execution_count": 55,
   "id": "d0984372-026f-4c71-97ea-5521dc2d3d36",
   "metadata": {},
   "outputs": [
    {
     "data": {
      "text/plain": [
       "'DOE'"
      ]
     },
     "execution_count": 55,
     "metadata": {},
     "output_type": "execute_result"
    }
   ],
   "source": [
    "john = John(1, \"Doe\")\n",
    "john.showTeacher()"
   ]
  },
  {
   "cell_type": "code",
   "execution_count": null,
   "id": "66099e9a-e57f-448a-9488-d5cec961f4be",
   "metadata": {},
   "outputs": [],
   "source": []
  }
 ],
 "metadata": {
  "kernelspec": {
   "display_name": "Python 3 (ipykernel)",
   "language": "python",
   "name": "python3"
  },
  "language_info": {
   "codemirror_mode": {
    "name": "ipython",
    "version": 3
   },
   "file_extension": ".py",
   "mimetype": "text/x-python",
   "name": "python",
   "nbconvert_exporter": "python",
   "pygments_lexer": "ipython3",
   "version": "3.12.4"
  }
 },
 "nbformat": 4,
 "nbformat_minor": 5
}
