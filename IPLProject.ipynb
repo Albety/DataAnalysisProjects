{
 "cells": [
  {
   "cell_type": "code",
   "execution_count": 11,
   "id": "0abb0e49-f08f-45f3-9505-a59fde872c2e",
   "metadata": {},
   "outputs": [],
   "source": [
    "import pandas as pd\n",
    "import numpy as np\n",
    "import matplotlib.pyplot as plt"
   ]
  },
  {
   "cell_type": "code",
   "execution_count": 1,
   "id": "a58e26c6-5bd8-4024-b9cc-a795eb4c2fdc",
   "metadata": {},
   "outputs": [],
   "source": [
    "x = 5\n",
    "y = 223\n",
    "c = 9\n",
    "d = 133\n",
    "e = 19\n",
    "f = 203"
   ]
  },
  {
   "cell_type": "code",
   "execution_count": 13,
   "id": "f65e9813-58fd-4746-b4c2-d4968f8d997c",
   "metadata": {},
   "outputs": [
    {
     "data": {
      "text/plain": [
       "160"
      ]
     },
     "execution_count": 13,
     "metadata": {},
     "output_type": "execute_result"
    }
   ],
   "source": [
    "x + y + d"
   ]
  },
  {
   "cell_type": "code",
   "execution_count": 14,
   "id": "40428b28-6ad3-4dd5-a317-7a1b4536b890",
   "metadata": {},
   "outputs": [
    {
     "data": {
      "text/plain": [
       "101.0"
      ]
     },
     "execution_count": 14,
     "metadata": {},
     "output_type": "execute_result"
    }
   ],
   "source": [
    "float(x * y - c)"
   ]
  },
  {
   "cell_type": "code",
   "execution_count": 15,
   "id": "835dcff6-c1a4-4bb4-bd94-b2904f0a0959",
   "metadata": {},
   "outputs": [
    {
     "data": {
      "text/plain": [
       "35.0"
      ]
     },
     "execution_count": 15,
     "metadata": {},
     "output_type": "execute_result"
    }
   ],
   "source": [
    "d / e * x"
   ]
  },
  {
   "cell_type": "code",
   "execution_count": 16,
   "id": "49d2f70d-c531-4580-ac13-ad498e3e864a",
   "metadata": {},
   "outputs": [
    {
     "data": {
      "text/plain": [
       "3"
      ]
     },
     "execution_count": 16,
     "metadata": {},
     "output_type": "execute_result"
    }
   ],
   "source": [
    "e // x"
   ]
  },
  {
   "cell_type": "code",
   "execution_count": 17,
   "id": "7d7ab26a-0d71-4876-a6dd-1c22670e7512",
   "metadata": {},
   "outputs": [],
   "source": [
    "def oddNumber(num):\n",
    "    return num%2 != 0"
   ]
  },
  {
   "cell_type": "code",
   "execution_count": 18,
   "id": "eb2bb5c5-d38c-43fc-8386-af022f3be737",
   "metadata": {},
   "outputs": [
    {
     "data": {
      "text/plain": [
       "True"
      ]
     },
     "execution_count": 18,
     "metadata": {},
     "output_type": "execute_result"
    }
   ],
   "source": [
    "oddNumber(c)"
   ]
  },
  {
   "cell_type": "code",
   "execution_count": 19,
   "id": "c3675285-e08a-44fb-bbd6-9ce5407f7f70",
   "metadata": {},
   "outputs": [],
   "source": [
    "def equalNum(num1, num2):\n",
    "    return num1 == num2"
   ]
  },
  {
   "cell_type": "code",
   "execution_count": 20,
   "id": "e3a6b2cc-34a2-4cf2-a497-3ff7f244f22d",
   "metadata": {},
   "outputs": [
    {
     "data": {
      "text/plain": [
       "[5, 22, 63, 9, 133, 404, 99, 11]"
      ]
     },
     "execution_count": 20,
     "metadata": {},
     "output_type": "execute_result"
    }
   ],
   "source": [
    "elem_lst = [x, y, 63, c, d, 404, 99, 11]\n",
    "elem_lst"
   ]
  },
  {
   "cell_type": "code",
   "execution_count": 21,
   "id": "552deb7a-f5dd-4497-bd44-fe3f21a26021",
   "metadata": {},
   "outputs": [
    {
     "data": {
      "text/plain": [
       "[5, 22, 63, 9, 133, 404, 99, 11, 1, 2, 3, 3, 5, 11, 85, 33]"
      ]
     },
     "execution_count": 21,
     "metadata": {},
     "output_type": "execute_result"
    }
   ],
   "source": [
    "new_lst = elem_lst + [1, 2, 3, 3, 5, 11, 85, 33] \n",
    "new_lst"
   ]
  },
  {
   "cell_type": "code",
   "execution_count": 24,
   "id": "9c52d408-2d7c-42bf-a552-bff735682083",
   "metadata": {},
   "outputs": [
    {
     "data": {
      "text/plain": [
       "{1, 2, 3, 5, 9, 11, 22, 33, 63, 85, 99, 133, 404}"
      ]
     },
     "execution_count": 24,
     "metadata": {},
     "output_type": "execute_result"
    }
   ],
   "source": [
    "new_set = set(new_lst)\n",
    "new_set"
   ]
  },
  {
   "cell_type": "code",
   "execution_count": 25,
   "id": "499b2ebc-f0fa-46dd-9ff5-f4076b7a2615",
   "metadata": {},
   "outputs": [
    {
     "data": {
      "text/plain": [
       "[1, 2, 3, 3, 5, 5, 9, 11, 11, 22, 33, 63, 85, 99, 133, 404]"
      ]
     },
     "execution_count": 25,
     "metadata": {},
     "output_type": "execute_result"
    }
   ],
   "source": [
    "new_lst.sort()\n",
    "new_lst"
   ]
  },
  {
   "cell_type": "code",
   "execution_count": 27,
   "id": "f6cb806a-6e65-4e50-b1a6-5666c47d81e6",
   "metadata": {},
   "outputs": [
    {
     "name": "stdout",
     "output_type": "stream",
     "text": [
      "1 is a really great number!\n",
      "2 is a really great number!\n",
      "3 is a really great number!\n",
      "3 is a really great number!\n",
      "5 is a really great number!\n",
      "5 is a really great number!\n",
      "9 is a really great number!\n",
      "11 is a really great number!\n",
      "11 is a really great number!\n",
      "22 is a really great number!\n",
      "33 is a really great number!\n",
      "63 is a really great number!\n",
      "85 is a really great number!\n",
      "99 is a really great number!\n",
      "133 is a really great number!\n",
      "404 is a really great number!\n"
     ]
    }
   ],
   "source": [
    "for i in new_lst:\n",
    "    print(f\"{i} is a really great number!\")"
   ]
  },
  {
   "cell_type": "code",
   "execution_count": 30,
   "id": "063d5a44-03e5-441e-b1de-f2be8bc7dac4",
   "metadata": {},
   "outputs": [
    {
     "data": {
      "text/plain": [
       "[1, 2, 5, 10, 8]"
      ]
     },
     "execution_count": 30,
     "metadata": {},
     "output_type": "execute_result"
    }
   ],
   "source": [
    "newDict = {'Hello':57, 10: True, \"newList\": [1,2,5,10,8]}\n",
    "newDict.get('newList', 0)"
   ]
  },
  {
   "cell_type": "code",
   "execution_count": 31,
   "id": "611c2a0b-fb96-4a00-92e1-cdff24431416",
   "metadata": {},
   "outputs": [
    {
     "name": "stdout",
     "output_type": "stream",
     "text": [
      "Hello ------- 57\n",
      "10 ------- True\n",
      "newList ------- [1, 2, 5, 10, 8]\n"
     ]
    }
   ],
   "source": [
    "for key, value in newDict.items():\n",
    "    print(f\"{key} ------- {value}\")"
   ]
  },
  {
   "cell_type": "code",
   "execution_count": null,
   "id": "67d96d32-e33f-4ef3-8e3f-49d39deae3eb",
   "metadata": {},
   "outputs": [],
   "source": []
  },
  {
   "cell_type": "code",
   "execution_count": 44,
   "id": "c774acc9-bde5-4501-9c20-6d349911ddca",
   "metadata": {},
   "outputs": [
    {
     "name": "stdout",
     "output_type": "stream",
     "text": [
      "0\n",
      "1\n",
      "2\n",
      "3\n",
      "4\n",
      "5\n",
      "6\n"
     ]
    }
   ],
   "source": [
    "def print_num(num):\n",
    "    \"\"\"This function prints range of numbers\"\"\"\n",
    "    for i in range(num):\n",
    "        print(i)\n",
    "print_num(7)"
   ]
  },
  {
   "cell_type": "code",
   "execution_count": 46,
   "id": "2b101a1b-094b-47f4-808c-7e35c0d9c88d",
   "metadata": {},
   "outputs": [
    {
     "data": {
      "text/plain": [
       "'This function prints range of numbers'"
      ]
     },
     "execution_count": 46,
     "metadata": {},
     "output_type": "execute_result"
    }
   ],
   "source": [
    "print_num.__doc__"
   ]
  },
  {
   "cell_type": "code",
   "execution_count": 48,
   "id": "64c4d052-005c-4fb5-8e20-10106c603fe5",
   "metadata": {},
   "outputs": [],
   "source": [
    "class Student:\n",
    "    def __init__(self, grade, teacher):\n",
    "        self.grade = grade\n",
    "        self.teacher = teacher\n",
    "    def showTeacher(self):\n",
    "        return self.teacher.upper()"
   ]
  },
  {
   "cell_type": "code",
   "execution_count": 50,
   "id": "16aeef7c-c963-4522-b3b9-d30ed90a8cce",
   "metadata": {},
   "outputs": [
    {
     "data": {
      "text/plain": [
       "<__main__.Student at 0x22eb47038f0>"
      ]
     },
     "execution_count": 50,
     "metadata": {},
     "output_type": "execute_result"
    }
   ],
   "source": [
    "stud = Student(5, \"Mrs. Smith\")\n",
    "stud"
   ]
  },
  {
   "cell_type": "code",
   "execution_count": 51,
   "id": "caf90764-a853-4b0e-afae-2703b6d543dd",
   "metadata": {},
   "outputs": [
    {
     "data": {
      "text/plain": [
       "'MRS. SMITH'"
      ]
     },
     "execution_count": 51,
     "metadata": {},
     "output_type": "execute_result"
    }
   ],
   "source": [
    "stud.showTeacher()"
   ]
  },
  {
   "cell_type": "code",
   "execution_count": 52,
   "id": "1bd1a07d-3740-47d5-8fe0-e00c7566c1ff",
   "metadata": {},
   "outputs": [
    {
     "data": {
      "text/plain": [
       "True"
      ]
     },
     "execution_count": 52,
     "metadata": {},
     "output_type": "execute_result"
    }
   ],
   "source": [
    "isinstance(stud, Student)"
   ]
  },
  {
   "cell_type": "code",
   "execution_count": 53,
   "id": "72cc4e93-d858-46a1-9484-44d25c585369",
   "metadata": {},
   "outputs": [],
   "source": [
    "class John(Student):\n",
    "    def __init__(self, grade, teacher):\n",
    "        super().__init__(grade, teacher)"
   ]
  },
  {
   "cell_type": "code",
   "execution_count": 55,
   "id": "d0984372-026f-4c71-97ea-5521dc2d3d36",
   "metadata": {},
   "outputs": [
    {
     "data": {
      "text/plain": [
       "'DOE'"
      ]
     },
     "execution_count": 55,
     "metadata": {},
     "output_type": "execute_result"
    }
   ],
   "source": [
    "john = John(1, \"Doe\")\n",
    "john.showTeacher()"
   ]
  },
  {
   "cell_type": "code",
   "execution_count": 58,
   "id": "66099e9a-e57f-448a-9488-d5cec961f4be",
   "metadata": {},
   "outputs": [
    {
     "data": {
      "text/plain": [
       "tuple"
      ]
     },
     "execution_count": 58,
     "metadata": {},
     "output_type": "execute_result"
    }
   ],
   "source": [
    "newTuple = (1, 45, 55, 8)\n",
    "type(newTuple)"
   ]
  },
  {
   "cell_type": "code",
   "execution_count": 61,
   "id": "b1f97886-4f9f-4edc-8c7d-f25ce92fd567",
   "metadata": {},
   "outputs": [
    {
     "name": "stdout",
     "output_type": "stream",
     "text": [
      "the sum is 8656\n"
     ]
    }
   ],
   "source": [
    "def num_sum(*arg):\n",
    "    sum = 0\n",
    "    for i in arg:\n",
    "        sum += int(i)\n",
    "    print(f\"the sum is {sum}\")\n",
    "num_sum(4, 12, 8552, 33, 55)"
   ]
  },
  {
   "cell_type": "code",
   "execution_count": 62,
   "id": "c77d2020-6d49-43a3-b6da-f5c2580b6b20",
   "metadata": {},
   "outputs": [
    {
     "name": "stdout",
     "output_type": "stream",
     "text": [
      "Key is name, value is John\n",
      "Key is surname, value is Smith\n",
      "Key is age, value is 23\n"
     ]
    }
   ],
   "source": [
    "def search_dict(**kwargs):\n",
    "    for key, value in kwargs.items():\n",
    "        print(f\"Key is {key}, value is {value}\")\n",
    "\n",
    "new_search = search_dict(name=\"John\", surname=\"Smith\", age=23)\n",
    "new_search"
   ]
  },
  {
   "cell_type": "code",
   "execution_count": 64,
   "id": "65d84446-cc2c-4761-a86a-bc4d8d1de8aa",
   "metadata": {},
   "outputs": [
    {
     "data": {
      "text/plain": [
       "[0, 2, 4, 6, 8, 10, 12, 14, 16, 18, 20, 22]"
      ]
     },
     "execution_count": 64,
     "metadata": {},
     "output_type": "execute_result"
    }
   ],
   "source": [
    "even_nums = [i for i in range(23) if i%2 == 0]\n",
    "even_nums"
   ]
  },
  {
   "cell_type": "code",
   "execution_count": 67,
   "id": "ee695911-6aa2-4103-b9c6-e3b4d880b831",
   "metadata": {},
   "outputs": [
    {
     "data": {
      "text/plain": [
       "[1, 4, 9, 16, 25]"
      ]
     },
     "execution_count": 67,
     "metadata": {},
     "output_type": "execute_result"
    }
   ],
   "source": [
    "numbers = [1, 2, 3, 4, 5]\n",
    "squared = list(map(lambda x: x**2, numbers))\n",
    "squared"
   ]
  },
  {
   "cell_type": "code",
   "execution_count": null,
   "id": "0c7c62d0-4d57-441a-8f70-ae9268c0260c",
   "metadata": {},
   "outputs": [],
   "source": [
    "with open('example.txt', 'r') as file:\n",
    "    file.read('Hello, world!')"
   ]
  },
  {
   "cell_type": "code",
   "execution_count": 72,
   "id": "0cb67990-e11b-4d44-8a73-9a6edd2c65ff",
   "metadata": {},
   "outputs": [
    {
     "name": "stdout",
     "output_type": "stream",
     "text": [
      "[1, 2, 3]\n",
      "[0, 2, 4]\n",
      "[5, 4, 3, 2, 1, 0]\n",
      "yth\n"
     ]
    }
   ],
   "source": [
    "numbers = [0, 1, 2, 3, 4, 5]\n",
    "word = \"Python\"\n",
    "\n",
    "print(numbers[1:4]) \n",
    "print(numbers[::2])  \n",
    "print(numbers[::-1])  \n",
    "print(word[1:4])"
   ]
  },
  {
   "cell_type": "code",
   "execution_count": 1,
   "id": "1d8bc4c8-1dfd-4ab4-9132-07767ef4be93",
   "metadata": {},
   "outputs": [
    {
     "name": "stdout",
     "output_type": "stream",
     "text": [
      "1 2 3\n",
      "1\n",
      "[2, 3, 4, 5]\n",
      "10 5\n"
     ]
    }
   ],
   "source": [
    "a, b, c = [1, 2, 3]\n",
    "print(a, b, c)  \n",
    "\n",
    "first, *rest = [1, 2, 3, 4, 5]\n",
    "print(first)  \n",
    "print(rest)  \n",
    "\n",
    "x, y = 5, 10\n",
    "x, y = y, x\n",
    "print(x, y)"
   ]
  },
  {
   "cell_type": "code",
   "execution_count": 3,
   "id": "2cfbf36b-a7de-4c35-93e0-40ee485ba734",
   "metadata": {},
   "outputs": [
    {
     "name": "stdout",
     "output_type": "stream",
     "text": [
      "True\n",
      "False\n",
      "True\n",
      "True\n"
     ]
    }
   ],
   "source": [
    "fruits = ['apple', 'banana', 'cherry']\n",
    "print('banana' in fruits)  \n",
    "\n",
    "message = \"Hello, World!\"\n",
    "print('z' in message)     \n",
    "\n",
    "person = {'name': 'Alice', 'age': 30}\n",
    "print('name' in person)   \n",
    "\n",
    "colors = {'red', 'green', 'blue'}\n",
    "print('green' in colors)   "
   ]
  },
  {
   "cell_type": "code",
   "execution_count": 1,
   "id": "6ea2b4ac-f41b-40fa-90f4-c586eaec8661",
   "metadata": {},
   "outputs": [
    {
     "name": "stdout",
     "output_type": "stream",
     "text": [
      "False\n",
      "False\n",
      "False\n",
      "False\n",
      "False\n",
      "False\n"
     ]
    }
   ],
   "source": [
    "print(bool(0))          \n",
    "print(bool(\"\"))         \n",
    "print(bool([]))         \n",
    "print(bool(()))        \n",
    "print(bool({}))       \n",
    "print(bool(None))       "
   ]
  },
  {
   "cell_type": "code",
   "execution_count": 1,
   "id": "04c9a5f2-424e-40cd-9379-48bc58b08c5d",
   "metadata": {},
   "outputs": [
    {
     "name": "stdout",
     "output_type": "stream",
     "text": [
      "{0: 0, 1: 1, 2: 4, 3: 9, 4: 16, 5: 25, 6: 36, 7: 49, 8: 64, 9: 81}\n",
      "{0: 0, 2: 4, 4: 16, 6: 36, 8: 64}\n"
     ]
    }
   ],
   "source": [
    "squares = {x: x**2 for x in range(10)}\n",
    "print(squares)  \n",
    "\n",
    "even_squares = {x: x**2 for x in range(10) if x % 2 == 0}\n",
    "print(even_squares)"
   ]
  },
  {
   "cell_type": "code",
   "execution_count": 1,
   "id": "fb1619d9-d3fb-42f6-a3ac-ab9d889f12f6",
   "metadata": {},
   "outputs": [
    {
     "name": "stdout",
     "output_type": "stream",
     "text": [
      "6\n",
      "4\n",
      "3\n",
      "3\n",
      "3\n"
     ]
    }
   ],
   "source": [
    "print(len(\"Python\"))  \n",
    "\n",
    "print(len([1, 3, 4, 5])) \n",
    "\n",
    "print(len((1, 2, 3)))  \n",
    "\n",
    "print(len({'a': 1, 'b': 2, 'c': 3})) \n",
    "\n",
    "print(len({1, 2, 3}))  "
   ]
  },
  {
   "cell_type": "code",
   "execution_count": 1,
   "id": "b01128d1-dc74-4042-a528-2957b32b3661",
   "metadata": {},
   "outputs": [
    {
     "name": "stdout",
     "output_type": "stream",
     "text": [
      "Hello, World\n",
      "hello, world!\n",
      "HELLO, WORLD!\n"
     ]
    }
   ],
   "source": [
    "text = \"   Hello, World   \"\n",
    "print(text.strip())  \n",
    "\n",
    "greeting = \"Hello, WORLD!\"\n",
    "print(greeting.lower())  \n",
    "\n",
    "message = \"hello, world!\"\n",
    "print(message.upper())"
   ]
  },
  {
   "cell_type": "code",
   "execution_count": 3,
   "id": "c57094ee-cd7a-4e8f-a813-0685a8654401",
   "metadata": {},
   "outputs": [
    {
     "name": "stdout",
     "output_type": "stream",
     "text": [
      "apple, banana, cherry\n",
      "Python is awesome\n",
      "Hello\n"
     ]
    }
   ],
   "source": [
    "fruits = ['apple', 'banana', 'cherry']\n",
    "print(', '.join(fruits))  \n",
    "\n",
    "words = [\"Python\", \"is\", \"awesome\"]\n",
    "print(' '.join(words))    \n",
    "\n",
    "chars = ['H', 'e', 'l', 'l', 'o']\n",
    "print(''.join(chars))     "
   ]
  },
  {
   "cell_type": "code",
   "execution_count": 3,
   "id": "1dd727f7-fd11-4d23-b505-81781b057116",
   "metadata": {},
   "outputs": [
    {
     "name": "stdout",
     "output_type": "stream",
     "text": [
      "0\n",
      "2\n",
      "4\n",
      "6\n",
      "8\n",
      "[0, 1, 2, 3]\n",
      "5\n",
      "4\n",
      "3\n",
      "2\n",
      "1\n"
     ]
    }
   ],
   "source": [
    "for i in range(0, 9, 2):\n",
    "    print(i)  \n",
    "    \n",
    "print(list(range(4)))  \n",
    "\n",
    "for i in range(5, 0, -1):\n",
    "    print(i) "
   ]
  },
  {
   "cell_type": "code",
   "execution_count": 1,
   "id": "5ae9390b-f13b-4335-891a-6afa89bdab4d",
   "metadata": {},
   "outputs": [
    {
     "name": "stdout",
     "output_type": "stream",
     "text": [
      "Alice is 25 years old!\n",
      "Bob is 33 years old!\n",
      "Charlie is 35 years old!\n",
      "{'Alice': 25, 'Bob': 33, 'Charlie': 35}\n"
     ]
    }
   ],
   "source": [
    "names = ['Alice', 'Bob', 'Charlie']\n",
    "ages = [25, 33, 35]\n",
    "\n",
    "for name, age in zip(names, ages):\n",
    "    print(f\"{name} is {age} years old!\")\n",
    "    \n",
    "name_age_dict = dict(zip(names, ages))\n",
    "print(name_age_dict)"
   ]
  },
  {
   "cell_type": "code",
   "execution_count": 1,
   "id": "c661b13a-c0d3-482d-9a16-1db2c41d5f3a",
   "metadata": {},
   "outputs": [
    {
     "name": "stdout",
     "output_type": "stream",
     "text": [
      "True\n",
      "False\n",
      "False\n",
      "True\n",
      "True\n",
      "False\n"
     ]
    }
   ],
   "source": [
    "numbers = [1, 0, 2, 0, 3]\n",
    "print(any(numbers))  \n",
    "print(any([0, 0, 0]))  \n",
    "\n",
    "print(all(numbers))  \n",
    "print(all([1, 2, 3]))  \n",
    "\n",
    "bools = [True, True, False]\n",
    "print(any(bools))   \n",
    "print(all(bools))"
   ]
  },
  {
   "cell_type": "code",
   "execution_count": 3,
   "id": "3b317662-b3fb-4a3f-b44e-c2678afd694f",
   "metadata": {},
   "outputs": [
    {
     "name": "stdout",
     "output_type": "stream",
     "text": [
      "Fruit #1: apple\n",
      "Fruit #2: banana\n",
      "Fruit #3: cherry\n"
     ]
    }
   ],
   "source": [
    "fruits = ['apple', 'banana', 'cherry']\n",
    "for count, fruit in enumerate(fruits, start=1):\n",
    "    print(f\"Fruit #{count}: {fruit}\")"
   ]
  },
  {
   "cell_type": "code",
   "execution_count": 1,
   "id": "a8b66ddb-24b3-49d1-87de-f28e795a1650",
   "metadata": {},
   "outputs": [
    {
     "name": "stdout",
     "output_type": "stream",
     "text": [
      "Alice\n",
      "25\n",
      "Not specified\n"
     ]
    }
   ],
   "source": [
    "class Person:\n",
    "    def __init__(self, name, age):\n",
    "        self.name = name\n",
    "        self.age = age\n",
    "\n",
    "person = Person(\"Alice\", 25)\n",
    "print(getattr(person, 'name')) \n",
    "print(getattr(person, 'age'))   \n",
    "print(getattr(person, 'height', 'Not specified'))"
   ]
  },
  {
   "cell_type": "code",
   "execution_count": 5,
   "id": "5e1cc6e6-6bab-47bf-8676-d140eeb339b4",
   "metadata": {},
   "outputs": [
    {
     "name": "stdout",
     "output_type": "stream",
     "text": [
      "Pi rounded to two decimal places: 3.14\n"
     ]
    }
   ],
   "source": [
    "pi = 3.14159\n",
    "print(f\"Pi rounded to two decimal places: {pi:.2f}\")"
   ]
  },
  {
   "cell_type": "code",
   "execution_count": 2,
   "id": "4df7d6a2-a90c-46ed-861c-9b61d2d49922",
   "metadata": {},
   "outputs": [
    {
     "name": "stdout",
     "output_type": "stream",
     "text": [
      "[1, 4]\n",
      "{'a': 1, 'c': 4}\n"
     ]
    }
   ],
   "source": [
    "my_list = [1, 2, 3, 4]\n",
    "\n",
    "del my_list[1:3]  \n",
    "print(my_list) \n",
    "\n",
    "my_dict = {'a': 1, 'b': 2, 'c': 4}\n",
    "del my_dict['b']\n",
    "print(my_dict)  \n",
    "\n",
    "x = 10\n",
    "del x\n",
    "\n",
    "class Example:\n",
    "    def __init__(self):\n",
    "        self.value = 105\n",
    "\n",
    "obj = Example()\n",
    "del obj.value"
   ]
  },
  {
   "cell_type": "code",
   "execution_count": 1,
   "id": "9fcd25d0-1a73-42c2-bb0f-ea033c63b08d",
   "metadata": {},
   "outputs": [
    {
     "name": "stdout",
     "output_type": "stream",
     "text": [
      "False\n",
      "True\n",
      "True\n",
      "True\n"
     ]
    }
   ],
   "source": [
    "x = 5\n",
    "y = \"Hello!\"\n",
    "z = [1, 2, 3]\n",
    "\n",
    "print(isinstance(x, str))    \n",
    "print(isinstance(z, list)) \n",
    "\n",
    "print(isinstance(x, (float, int)))  \n",
    "print(isinstance(y, (str, list)))   "
   ]
  },
  {
   "cell_type": "code",
   "execution_count": null,
   "id": "8dad3746-db88-4254-88f8-b46d503d5d8d",
   "metadata": {},
   "outputs": [],
   "source": [
    "def empty_function():\n",
    "    pass  \n",
    "\n",
    "class EmptyClass:\n",
    "    pass\n",
    "\n",
    "if some_condition:\n",
    "    pass  \n",
    "else:\n",
    "    print(\"Condition not met!\")"
   ]
  },
  {
   "cell_type": "code",
   "execution_count": null,
   "id": "62fe086e-c563-4956-a4ba-caeb6d3edb1a",
   "metadata": {},
   "outputs": [],
   "source": []
  }
 ],
 "metadata": {
  "kernelspec": {
   "display_name": "Python 3 (ipykernel)",
   "language": "python",
   "name": "python3"
  },
  "language_info": {
   "codemirror_mode": {
    "name": "ipython",
    "version": 3
   },
   "file_extension": ".py",
   "mimetype": "text/x-python",
   "name": "python",
   "nbconvert_exporter": "python",
   "pygments_lexer": "ipython3",
   "version": "3.12.4"
  }
 },
 "nbformat": 4,
 "nbformat_minor": 5
}
