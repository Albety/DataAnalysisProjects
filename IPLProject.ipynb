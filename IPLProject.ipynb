{
 "cells": [
  {
   "cell_type": "code",
   "execution_count": 3,
   "id": "0abb0e49-f08f-45f3-9505-a59fde872c2e",
   "metadata": {},
   "outputs": [],
   "source": [
    "import pandas as pd\n",
    "import numpy as np\n",
    "import matplotlib.pyplot as plt"
   ]
  },
  {
   "cell_type": "code",
   "execution_count": 1,
   "id": "a58e26c6-5bd8-4024-b9cc-a795eb4c2fdc",
   "metadata": {},
   "outputs": [],
   "source": [
    "x = 5\n",
    "y = 22\n",
    "c = 9\n",
    "d = 132\n",
    "e = 15\n",
    "f = 20"
   ]
  },
  {
   "cell_type": "code",
   "execution_count": 13,
   "id": "f65e9813-58fd-4746-b4c2-d4968f8d997c",
   "metadata": {},
   "outputs": [
    {
     "data": {
      "text/plain": [
       "359"
      ]
     },
     "execution_count": 13,
     "metadata": {},
     "output_type": "execute_result"
    }
   ],
   "source": [
    "x + y + d"
   ]
  },
  {
   "cell_type": "code",
   "execution_count": 14,
   "id": "40428b28-6ad3-4dd5-a317-7a1b4536b890",
   "metadata": {},
   "outputs": [
    {
     "data": {
      "text/plain": [
       "1101.0"
      ]
     },
     "execution_count": 14,
     "metadata": {},
     "output_type": "execute_result"
    }
   ],
   "source": [
    "float(x * y - c)"
   ]
  },
  {
   "cell_type": "code",
   "execution_count": 16,
   "id": "835dcff6-c1a4-4bb4-bd94-b2904f0a0959",
   "metadata": {},
   "outputs": [
    {
     "data": {
      "text/plain": [
       "44.0"
      ]
     },
     "execution_count": 16,
     "metadata": {},
     "output_type": "execute_result"
    }
   ],
   "source": [
    "d / e * x"
   ]
  },
  {
   "cell_type": "code",
   "execution_count": 17,
   "id": "49d2f70d-c531-4580-ac13-ad498e3e864a",
   "metadata": {},
   "outputs": [
    {
     "data": {
      "text/plain": [
       "3"
      ]
     },
     "execution_count": 17,
     "metadata": {},
     "output_type": "execute_result"
    }
   ],
   "source": [
    "e // x"
   ]
  },
  {
   "cell_type": "code",
   "execution_count": 18,
   "id": "7d7ab26a-0d71-4876-a6dd-1c22670e7512",
   "metadata": {},
   "outputs": [],
   "source": [
    "def oddNumber(num):\n",
    "    return num%2 != 0"
   ]
  },
  {
   "cell_type": "code",
   "execution_count": 19,
   "id": "eb2bb5c5-d38c-43fc-8386-af022f3be737",
   "metadata": {},
   "outputs": [
    {
     "data": {
      "text/plain": [
       "True"
      ]
     },
     "execution_count": 19,
     "metadata": {},
     "output_type": "execute_result"
    }
   ],
   "source": [
    "oddNumber(c)"
   ]
  },
  {
   "cell_type": "code",
   "execution_count": 20,
   "id": "c3675285-e08a-44fb-bbd6-9ce5407f7f70",
   "metadata": {},
   "outputs": [],
   "source": [
    "def equalNum(num1, num2):\n",
    "    return num1 == num2"
   ]
  },
  {
   "cell_type": "code",
   "execution_count": 23,
   "id": "e3a6b2cc-34a2-4cf2-a497-3ff7f244f22d",
   "metadata": {},
   "outputs": [
    {
     "data": {
      "text/plain": [
       "[5, 222, 63, 9, 132, 15, 44, 99]"
      ]
     },
     "execution_count": 23,
     "metadata": {},
     "output_type": "execute_result"
    }
   ],
   "source": [
    "elem_lst = [x, y, 63, c, d, e, 44, 99, 11]\n",
    "elem_lst"
   ]
  },
  {
   "cell_type": "code",
   "execution_count": 24,
   "id": "552deb7a-f5dd-4497-bd44-fe3f21a26021",
   "metadata": {},
   "outputs": [
    {
     "data": {
      "text/plain": [
       "[5, 222, 63, 9, 132, 15, 44, 99, 1, 2, 3, 3, 5, 11, 85]"
      ]
     },
     "execution_count": 24,
     "metadata": {},
     "output_type": "execute_result"
    }
   ],
   "source": [
    "new_lst = elem_lst + [1, 2, 3, 3, 5, 11, 85] \n",
    "new_lst"
   ]
  },
  {
   "cell_type": "code",
   "execution_count": 27,
   "id": "9c52d408-2d7c-42bf-a552-bff735682083",
   "metadata": {},
   "outputs": [
    {
     "data": {
      "text/plain": [
       "{1, 2, 3, 5, 9, 11, 15, 44, 63, 85, 99, 132, 222}"
      ]
     },
     "execution_count": 27,
     "metadata": {},
     "output_type": "execute_result"
    }
   ],
   "source": [
    "new_set = set(new_lst)\n",
    "new_set"
   ]
  },
  {
   "cell_type": "code",
   "execution_count": 19,
   "id": "499b2ebc-f0fa-46dd-9ff5-f4076b7a2615",
   "metadata": {},
   "outputs": [
    {
     "data": {
      "text/plain": [
       "[1, 2, 3, 3, 5, 5, 7, 9, 11, 15, 44, 85, 132]"
      ]
     },
     "execution_count": 19,
     "metadata": {},
     "output_type": "execute_result"
    }
   ],
   "source": [
    "new_lst.sort()\n",
    "new_lst"
   ]
  },
  {
   "cell_type": "code",
   "execution_count": 21,
   "id": "f6cb806a-6e65-4e50-b1a6-5666c47d81e6",
   "metadata": {},
   "outputs": [
    {
     "name": "stdout",
     "output_type": "stream",
     "text": [
      "1 is a really great number!\n",
      "2 is a really great number!\n",
      "3 is a really great number!\n",
      "3 is a really great number!\n",
      "5 is a really great number!\n",
      "5 is a really great number!\n",
      "7 is a really great number!\n",
      "9 is a really great number!\n",
      "11 is a really great number!\n",
      "15 is a really great number!\n",
      "44 is a really great number!\n",
      "85 is a really great number!\n",
      "132 is a really great number!\n"
     ]
    }
   ],
   "source": [
    "for i in new_lst:\n",
    "    print(f\"{i} is a really great number!\")"
   ]
  },
  {
   "cell_type": "code",
   "execution_count": 3,
   "id": "063d5a44-03e5-441e-b1de-f2be8bc7dac4",
   "metadata": {},
   "outputs": [
    {
     "data": {
      "text/plain": [
       "[1, 2, 5, 10, 8]"
      ]
     },
     "execution_count": 3,
     "metadata": {},
     "output_type": "execute_result"
    }
   ],
   "source": [
    "newDict = {'Hello':57, 10: True, \"newList\": [1,2,5,10,8]}\n",
    "newDict.get('newList', 0)"
   ]
  },
  {
   "cell_type": "code",
   "execution_count": 5,
   "id": "611c2a0b-fb96-4a00-92e1-cdff24431416",
   "metadata": {},
   "outputs": [
    {
     "name": "stdout",
     "output_type": "stream",
     "text": [
      "Hello ------- 57\n",
      "10 ------- True\n",
      "newList ------- [1, 2, 5, 10, 8]\n"
     ]
    }
   ],
   "source": [
    "for key, value in newDict.items():\n",
    "    print(f\"{key} ------- {value}\")"
   ]
  },
  {
   "cell_type": "code",
   "execution_count": null,
   "id": "67d96d32-e33f-4ef3-8e3f-49d39deae3eb",
   "metadata": {},
   "outputs": [],
   "source": []
  },
  {
   "cell_type": "code",
   "execution_count": 3,
   "id": "c774acc9-bde5-4501-9c20-6d349911ddca",
   "metadata": {},
   "outputs": [
    {
     "name": "stdout",
     "output_type": "stream",
     "text": [
      "0\n",
      "1\n",
      "2\n",
      "3\n",
      "4\n",
      "5\n",
      "6\n"
     ]
    }
   ],
   "source": [
    "def print_num(num):\n",
    "    \"\"\"This function prints range of numbers\"\"\"\n",
    "    for i in range(num):\n",
    "        print(i)\n",
    "print_num(7)"
   ]
  },
  {
   "cell_type": "code",
   "execution_count": 22,
   "id": "2b101a1b-094b-47f4-808c-7e35c0d9c88d",
   "metadata": {},
   "outputs": [
    {
     "data": {
      "text/plain": [
       "'This function prints range of numbers'"
      ]
     },
     "execution_count": 22,
     "metadata": {},
     "output_type": "execute_result"
    }
   ],
   "source": [
    "print_num.__doc__"
   ]
  },
  {
   "cell_type": "code",
   "execution_count": 40,
   "id": "64c4d052-005c-4fb5-8e20-10106c603fe5",
   "metadata": {},
   "outputs": [],
   "source": [
    "class Student:\n",
    "    def __init__(self, grade, teacher):\n",
    "        self.grade = grade\n",
    "        self.teacher = teacher\n",
    "    def showTeacher(self):\n",
    "        return self.teacher.upper()"
   ]
  },
  {
   "cell_type": "code",
   "execution_count": 42,
   "id": "16aeef7c-c963-4522-b3b9-d30ed90a8cce",
   "metadata": {},
   "outputs": [
    {
     "data": {
      "text/plain": [
       "<__main__.Student at 0x22d2b9a6990>"
      ]
     },
     "execution_count": 42,
     "metadata": {},
     "output_type": "execute_result"
    }
   ],
   "source": [
    "stud = Student(5, \"Mrs. Smith\")\n",
    "stud"
   ]
  },
  {
   "cell_type": "code",
   "execution_count": 44,
   "id": "caf90764-a853-4b0e-afae-2703b6d543dd",
   "metadata": {},
   "outputs": [
    {
     "data": {
      "text/plain": [
       "'MRS. SMITH'"
      ]
     },
     "execution_count": 44,
     "metadata": {},
     "output_type": "execute_result"
    }
   ],
   "source": [
    "stud.showTeacher()"
   ]
  },
  {
   "cell_type": "code",
   "execution_count": 46,
   "id": "1bd1a07d-3740-47d5-8fe0-e00c7566c1ff",
   "metadata": {},
   "outputs": [
    {
     "data": {
      "text/plain": [
       "True"
      ]
     },
     "execution_count": 46,
     "metadata": {},
     "output_type": "execute_result"
    }
   ],
   "source": [
    "isinstance(stud, Student)"
   ]
  },
  {
   "cell_type": "code",
   "execution_count": 48,
   "id": "72cc4e93-d858-46a1-9484-44d25c585369",
   "metadata": {},
   "outputs": [],
   "source": [
    "class John(Student):\n",
    "    def __init__(self, grade, teacher):\n",
    "        super().__init__(grade, teacher)"
   ]
  },
  {
   "cell_type": "code",
   "execution_count": 50,
   "id": "d0984372-026f-4c71-97ea-5521dc2d3d36",
   "metadata": {},
   "outputs": [
    {
     "data": {
      "text/plain": [
       "'DOE'"
      ]
     },
     "execution_count": 50,
     "metadata": {},
     "output_type": "execute_result"
    }
   ],
   "source": [
    "john = John(1, \"Doe\")\n",
    "john.showTeacher()"
   ]
  },
  {
   "cell_type": "code",
   "execution_count": 52,
   "id": "66099e9a-e57f-448a-9488-d5cec961f4be",
   "metadata": {},
   "outputs": [
    {
     "data": {
      "text/plain": [
       "tuple"
      ]
     },
     "execution_count": 52,
     "metadata": {},
     "output_type": "execute_result"
    }
   ],
   "source": [
    "newTuple = (1, 45, 55, 8)\n",
    "type(newTuple)"
   ]
  },
  {
   "cell_type": "code",
   "execution_count": 3,
   "id": "b1f97886-4f9f-4edc-8c7d-f25ce92fd567",
   "metadata": {},
   "outputs": [
    {
     "name": "stdout",
     "output_type": "stream",
     "text": [
      "the sum is 8656\n"
     ]
    }
   ],
   "source": [
    "def num_sum(*arg):\n",
    "    sum = 0\n",
    "    for i in arg:\n",
    "        sum += int(i)\n",
    "    print(f\"the sum is {sum}\")\n",
    "num_sum(4, 12, 8552, 33, 55)"
   ]
  },
  {
   "cell_type": "code",
   "execution_count": 9,
   "id": "c77d2020-6d49-43a3-b6da-f5c2580b6b20",
   "metadata": {},
   "outputs": [
    {
     "name": "stdout",
     "output_type": "stream",
     "text": [
      "Key is name, value is John\n",
      "Key is surname, value is Smith\n",
      "Key is age, value is 23\n"
     ]
    }
   ],
   "source": [
    "def search_dict(**kwargs):\n",
    "    for key, value in kwargs.items():\n",
    "        print(f\"Key is {key}, value is {value}\")\n",
    "\n",
    "new_search = search_dict(name=\"John\", surname=\"Smith\", age=23)\n",
    "new_search"
   ]
  },
  {
   "cell_type": "code",
   "execution_count": 1,
   "id": "65d84446-cc2c-4761-a86a-bc4d8d1de8aa",
   "metadata": {},
   "outputs": [
    {
     "data": {
      "text/plain": [
       "[0, 2, 4, 6, 8, 10, 12, 14, 16, 18, 20, 22]"
      ]
     },
     "execution_count": 1,
     "metadata": {},
     "output_type": "execute_result"
    }
   ],
   "source": [
    "even_nums = [i for i in range(23) if i%2 == 0]\n",
    "even_nums"
   ]
  },
  {
   "cell_type": "code",
   "execution_count": 3,
   "id": "ee695911-6aa2-4103-b9c6-e3b4d880b831",
   "metadata": {},
   "outputs": [
    {
     "data": {
      "text/plain": [
       "[1, 4, 9, 16, 25]"
      ]
     },
     "execution_count": 3,
     "metadata": {},
     "output_type": "execute_result"
    }
   ],
   "source": [
    "numbers = [1, 2, 3, 4, 5]\n",
    "squared = list(map(lambda x: x**2, numbers))\n",
    "squared"
   ]
  },
  {
   "cell_type": "code",
   "execution_count": null,
   "id": "0c7c62d0-4d57-441a-8f70-ae9268c0260c",
   "metadata": {},
   "outputs": [],
   "source": []
  }
 ],
 "metadata": {
  "kernelspec": {
   "display_name": "Python 3 (ipykernel)",
   "language": "python",
   "name": "python3"
  },
  "language_info": {
   "codemirror_mode": {
    "name": "ipython",
    "version": 3
   },
   "file_extension": ".py",
   "mimetype": "text/x-python",
   "name": "python",
   "nbconvert_exporter": "python",
   "pygments_lexer": "ipython3",
   "version": "3.12.4"
  }
 },
 "nbformat": 4,
 "nbformat_minor": 5
}
