{
 "cells": [
  {
   "cell_type": "markdown",
   "id": "bed13055",
   "metadata": {},
   "source": [
    "# Matplotlib Exercise"
   ]
  },
  {
   "cell_type": "markdown",
   "id": "43745720",
   "metadata": {},
   "source": [
    "## Part 1\n"
   ]
  },
  {
   "cell_type": "code",
   "execution_count": null,
   "id": "026f462f",
   "metadata": {},
   "outputs": [],
   "source": [
    "# Use these lists to generate the plots!\n",
    "avg_sp500_close = [\n",
    "    1427.22,\n",
    "    1192.57,\n",
    "    993.93,\n",
    "    965.23,\n",
    "    1130.65,\n",
    "    1207.23,\n",
    "    1310.46,\n",
    "    1477.18,\n",
    "    1220.04,\n",
    "    948.05,\n",
    "    1139.97,\n",
    "    1267.64,\n",
    "    1379.61,\n",
    "    1643.80,\n",
    "    1931.38,\n",
    "    2061.07,\n",
    "    2094.65,\n",
    "    2449.08,\n",
    "    2746.21,\n",
    "    2913.36,\n",
    "    3217.86,\n",
    "    4246.11\n",
    "]\n",
    "\n",
    "avg_nasdaq_close = [\n",
    "    3783.67,\n",
    "    2029.61,\n",
    "    1539.73,\n",
    "    1647.17,\n",
    "    1986.53,\n",
    "    2099.32,\n",
    "    2263.41,\n",
    "    2578.47,\n",
    "    2161.68,\n",
    "    1845.39,\n",
    "    2349.89,\n",
    "    2677.44,\n",
    "    2965.74,\n",
    "    3541.29,\n",
    "    4375.10,\n",
    "    4945.55,\n",
    "    4987.79,\n",
    "    6235.30,\n",
    "    7425.96,\n",
    "    7940.36,\n",
    "    10201.51,\n",
    "    14294.87\n",
    "]\n",
    "\n",
    "years = [2000,2001,2002,2003,2004,2005,2006,2007,2008,2009,2010,2011,2012,2013,2014,2015,2016,2017,2018,2019,2020,2021]"
   ]
  },
  {
   "cell_type": "code",
   "execution_count": null,
   "id": "45295e89",
   "metadata": {},
   "outputs": [],
   "source": [
    "import matplotlib.pyplot as plt\n",
    "plt.style.use(\"fivethirtyeight\")\n",
    "plt.figure(figsize=(8,6), dpi=200)\n",
    "plt.plot(years, avg_sp500_close, label='S&P 500')\n",
    "plt.plot(years, avg_nasdaq_close, label='Nasdaq')\n",
    "plt.legend()\n",
    "plt.xlabel('Year')\n",
    "plt.title(\"AVG annual close BY YEAR\", fontsize=15)\n",
    "plt.tight_layout()\n",
    "plt.savefig('chart1.png')\n",
    "plt.show()"
   ]
  },
  {
   "attachments": {},
   "cell_type": "markdown",
   "id": "c8b5a067",
   "metadata": {},
   "source": [
    "## Part 2\n",
    "\n",
    "\n"
   ]
  },
  {
   "cell_type": "code",
   "execution_count": null,
   "id": "8475dac7",
   "metadata": {},
   "outputs": [],
   "source": [
    "# Use this data to generate the plot!\n",
    "resorts = [\"Crested Butte\", \"Aspen\", \"Telluride\", \"Wolf Creek\"]\n",
    "snow_last_24 = [29,15,15,23]\n",
    "snow_next_24 = [16,6,19,30]"
   ]
  },
  {
   "cell_type": "code",
   "execution_count": null,
   "id": "f33c2982",
   "metadata": {},
   "outputs": [],
   "source": [
    "plt.figure(figsize=(8,6), dpi=200)\n",
    "plt.bar(resorts, snow_next_24, color=\"#7ed6df\", bottom=snow_last_24, label=\"Next 24hrs\")\n",
    "plt.bar(resorts, snow_last_24, color=\"#74b9ff\", label='Last 24hrs')\n",
    "plt.legend()\n",
    "plt.ylabel(\"Inches\")\n",
    "plt.title(\"Co Snow Storm Report\")\n",
    "plt.savefig('chart2.png')\n",
    "plt.show()\n"
   ]
  },
  {
   "attachments": {},
   "cell_type": "markdown",
   "id": "d84d9718",
   "metadata": {},
   "source": [
    "## Part 3\n",
    "\n"
   ]
  },
  {
   "cell_type": "code",
   "execution_count": null,
   "id": "851cac37",
   "metadata": {},
   "outputs": [],
   "source": [
    "# Use these lists to generate the chart!\n",
    "labels = [\n",
    "    \"Building Construction\", \n",
    "    \"Deferred Maintenance\",\n",
    "    \"General Contractor Fees\",\n",
    "    \"Owner Costs\",\n",
    "    \"Site Construction\"\n",
    "]\n",
    "costs = [\n",
    "    47945975,\n",
    "    3753584,\n",
    "    7340612,\n",
    "    18247137,\n",
    "    5766685\n",
    "]\n",
    "colors = [\"#355070\", \"#6d597a\", \"#b56576\", \"#e56b6f\", \"#eaac8b\"]"
   ]
  },
  {
   "cell_type": "code",
   "execution_count": null,
   "id": "04f3485b",
   "metadata": {},
   "outputs": [],
   "source": [
    "plt.figure(figsize=(10,11), dpi=200)\n",
    "plt.pie(costs, labels=labels, colors=colors, explode=[0, 0.1, 0, 0, 0.1], autopct=\"%1.0f%%\")\n",
    "plt.title('School District Cost Breakdown')\n",
    "plt.tight_layout()\n",
    "plt.savefig(\"chart3.png\")\n",
    "plt.show()"
   ]
  },
  {
   "attachments": {},
   "cell_type": "markdown",
   "id": "9b0fbcd2",
   "metadata": {},
   "source": [
    "## Part 4\n"
   ]
  },
  {
   "cell_type": "code",
   "execution_count": null,
   "id": "6736d22e",
   "metadata": {},
   "outputs": [],
   "source": [
    "# Do your work here!\n",
    "import pandas as pd \n",
    "df['date'] = pd.to_datetime(df['date'])\n",
    "salesByMonth = df['date'].dt.month.value_counts().sort_index()\n",
    "months = df['date'].dt.month.value_counts().sort_index().index.values\n",
    "salesByWeekDay = daysofweek = df['date'].dt.dayofweek.value_counts().sort_index()\n",
    "daysofweek = df['date'].dt.dayofweek.value_counts().index.values\n",
    "\n",
    "df = pd.read_csv(\"data/kc_house_data.csv\")\n",
    "plt.figure(figsize=(10,4))\n",
    "plt.subplot(1,2,1)\n",
    "plt.title(\"Sales By Week Day\")\n",
    "plt.bar(daysofweek, salesByWeekDay)\n",
    "plt.xticks([0,1,2,3,4,5,6],['Mon', 'Tue', 'Wen', 'Thr', 'Fri', 'Sat', 'Sun'])\n",
    "\n",
    "plt.subplot(1,2,2)\n",
    "plt.title(\"Sales By Month\")\n",
    "plt.plot(month, salesByMonth)\n",
    "plt.xticks(months)\n",
    "plt.xlabel('Month')\n",
    "plt.ylabel('Home Sales')\n",
    "\n",
    "plt.savefig(\"chart4.png\")\n",
    "plt.show()"
   ]
  }
 ],
 "metadata": {
  "kernelspec": {
   "display_name": "Python 3 (ipykernel)",
   "language": "python",
   "name": "python3"
  },
  "language_info": {
   "codemirror_mode": {
    "name": "ipython",
    "version": 3
   },
   "file_extension": ".py",
   "mimetype": "text/x-python",
   "name": "python",
   "nbconvert_exporter": "python",
   "pygments_lexer": "ipython3",
   "version": "3.12.4"
  }
 },
 "nbformat": 4,
 "nbformat_minor": 5
}
